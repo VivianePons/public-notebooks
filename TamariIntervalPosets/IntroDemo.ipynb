{
 "cells": [
  {
   "cell_type": "markdown",
   "metadata": {},
   "source": [
    "# Demo of Tamari interval-posets in Sage\n",
    "\n",
    "This code is related to the paper:\n",
    "\n",
    "[1] Grégory Châtel and Viviane Pons. [Counting smaller elements in the Tamari and m-Tamari lattices](http://arxiv.org/abs/1311.3922), Journal of Combinatorial Theory, Series A, 134():58 – 97, 2015. "
   ]
  },
  {
   "cell_type": "code",
   "execution_count": 1,
   "metadata": {
    "collapsed": true
   },
   "outputs": [],
   "source": [
    "# local hack to show latex figures \n",
    "# on a local sage, use view\n",
    "from viewLatex import viewLatex"
   ]
  },
  {
   "cell_type": "markdown",
   "metadata": {},
   "source": [
    "## Creating interval-posets"
   ]
  },
  {
   "cell_type": "code",
   "execution_count": 2,
   "metadata": {
    "collapsed": false
   },
   "outputs": [
    {
     "data": {
      "text/plain": [
       "The Tamari interval of size 4 induced by relations [(2, 4), (3, 4), (3, 1), (2, 1)]"
      ]
     },
     "execution_count": 2,
     "metadata": {},
     "output_type": "execute_result"
    }
   ],
   "source": [
    "# creating an interval-poset\n",
    "ip = TamariIntervalPoset(4,[(2,1),(3,1),(2,4),(3,4)])\n",
    "ip"
   ]
  },
  {
   "cell_type": "code",
   "execution_count": 3,
   "metadata": {
    "collapsed": false
   },
   "outputs": [
    {
     "data": {
      "image/png": "[encoded data removed]",
      "text/plain": [
       "<IPython.core.display.Image object>"
      ]
     },
     "metadata": {},
     "output_type": "display_data"
    }
   ],
   "source": [
    "viewLatex(ip)"
   ]
  },
  {
   "cell_type": "markdown",
   "metadata": {},
   "source": [
    "You can create the interval-poset from Binary trees or Dyck paths."
   ]
  },
  {
   "cell_type": "code",
   "execution_count": 4,
   "metadata": {
    "collapsed": false
   },
   "outputs": [
    {
     "data": {
      "text/plain": [
       "The Tamari interval of size 4 induced by relations [(2, 4), (3, 4), (3, 1), (2, 1)]"
      ]
     },
     "execution_count": 4,
     "metadata": {},
     "output_type": "execute_result"
    }
   ],
   "source": [
    "bt1 = BinaryTree([[None, [[], None]], None])\n",
    "bt2 = BinaryTree([None, [[None, []], None]])\n",
    "ip = TamariIntervalPosets.from_binary_trees(bt1,bt2)\n",
    "ip"
   ]
  },
  {
   "cell_type": "code",
   "execution_count": 5,
   "metadata": {
    "collapsed": false
   },
   "outputs": [
    {
     "data": {
      "text/plain": [
       "The Tamari interval of size 4 induced by relations [(2, 4), (3, 4), (3, 1), (2, 1)]"
      ]
     },
     "execution_count": 5,
     "metadata": {},
     "output_type": "execute_result"
    }
   ],
   "source": [
    "ip = bt1.tamari_interval(bt2)\n",
    "ip"
   ]
  },
  {
   "cell_type": "code",
   "execution_count": 6,
   "metadata": {
    "collapsed": false
   },
   "outputs": [
    {
     "data": {
      "text/plain": [
       "The Tamari interval of size 4 induced by relations [(2, 4), (3, 4), (3, 1), (2, 1)]"
      ]
     },
     "execution_count": 6,
     "metadata": {},
     "output_type": "execute_result"
    }
   ],
   "source": [
    "dw1 = DyckWord([1, 1, 0, 1, 0, 0, 1, 0])\n",
    "dw2 = DyckWord([1, 1, 1, 0, 0, 1, 0, 0])\n",
    "ip = TamariIntervalPosets.from_dyck_words(dw1,dw2)\n",
    "ip"
   ]
  },
  {
   "cell_type": "code",
   "execution_count": 7,
   "metadata": {
    "collapsed": false
   },
   "outputs": [
    {
     "data": {
      "text/plain": [
       "The Tamari interval of size 4 induced by relations [(2, 4), (3, 4), (3, 1), (2, 1)]"
      ]
     },
     "execution_count": 7,
     "metadata": {},
     "output_type": "execute_result"
    }
   ],
   "source": [
    "ip = dw1.tamari_interval(dw2)\n",
    "ip"
   ]
  },
  {
   "cell_type": "markdown",
   "metadata": {},
   "source": [
    "## Some basic computations\n",
    "\n",
    "Computing its endpoints as binary trees and list the binary trees of the interval. "
   ]
  },
  {
   "cell_type": "code",
   "execution_count": 9,
   "metadata": {
    "collapsed": false
   },
   "outputs": [
    {
     "name": "stdout",
     "output_type": "stream",
     "text": [
      "[[., [[., .], .]], .]\n",
      "[., [[., [., .]], .]]\n"
     ]
    }
   ],
   "source": [
    "print ip.lower_binary_tree()\n",
    "print ip.upper_binary_tree()"
   ]
  },
  {
   "cell_type": "code",
   "execution_count": 10,
   "metadata": {
    "collapsed": false
   },
   "outputs": [
    {
     "data": {
      "image/png": "[encoded data removed]",
      "text/plain": [
       "<IPython.core.display.Image object>"
      ]
     },
     "execution_count": 10,
     "metadata": {},
     "output_type": "execute_result"
    }
   ],
   "source": [
    "viewLatex(ip.lower_binary_tree())"
   ]
  },
  {
   "cell_type": "code",
   "execution_count": 11,
   "metadata": {
    "collapsed": false
   },
   "outputs": [
    {
     "data": {
      "image/png": "[encoded data removed]",
      "text/plain": [
       "<IPython.core.display.Image object>"
      ]
     },
     "execution_count": 11,
     "metadata": {},
     "output_type": "execute_result"
    }
   ],
   "source": [
    "viewLatex(ip.upper_binary_tree())"
   ]
  },
  {
   "cell_type": "code",
   "execution_count": 12,
   "metadata": {
    "collapsed": false
   },
   "outputs": [
    {
     "data": {
      "image/png": "[encoded data removed]",
      "text/plain": [
       "<IPython.core.display.Image object>"
      ]
     },
     "execution_count": 12,
     "metadata": {},
     "output_type": "execute_result"
    }
   ],
   "source": [
    "viewLatex(ip.lower_dyck_word())"
   ]
  },
  {
   "cell_type": "code",
   "execution_count": 13,
   "metadata": {
    "collapsed": false
   },
   "outputs": [
    {
     "data": {
      "image/png": "[encoded data removed]",
      "text/plain": [
       "<IPython.core.display.Image object>"
      ]
     },
     "execution_count": 13,
     "metadata": {},
     "output_type": "execute_result"
    }
   ],
   "source": [
    "viewLatex(ip.upper_dyck_word())"
   ]
  },
  {
   "cell_type": "code",
   "execution_count": 14,
   "metadata": {
    "collapsed": false
   },
   "outputs": [
    {
     "name": "stdout",
     "output_type": "stream",
     "text": [
      "[., [[., [., .]], .]]\n",
      "[[., [., [., .]]], .]\n",
      "[., [[[., .], .], .]]\n",
      "[[., [[., .], .]], .]\n"
     ]
    }
   ],
   "source": [
    "for bt in ip.binary_trees():\n",
    "    print bt"
   ]
  },
  {
   "cell_type": "code",
   "execution_count": 15,
   "metadata": {
    "collapsed": false
   },
   "outputs": [
    {
     "name": "stdout",
     "output_type": "stream",
     "text": [
      "((())())\n",
      "((()))()\n",
      "(()()())\n",
      "(()())()\n"
     ]
    }
   ],
   "source": [
    "for dw in ip.dyck_words():\n",
    "    print dw"
   ]
  },
  {
   "cell_type": "markdown",
   "metadata": {},
   "source": [
    "## The composition of interval-posets\n",
    "\n",
    "In [1], we define a composition of interval-posets. Below are the methods corresponding to this composition. "
   ]
  },
  {
   "cell_type": "code",
   "execution_count": 5,
   "metadata": {
    "collapsed": true
   },
   "outputs": [],
   "source": [
    "def left_product(ip1,ip2):\n",
    "    size = ip1.size() + ip2.size()\n",
    "    # Juxtaposition of ip1 and shifted ip2\n",
    "    relations = list(ip1._cover_relations) + [(i+ip1.size(),j+ip1.size()) for (i,j) in ip2._cover_relations]\n",
    "    # Increasing relations between ip1 and the first vertex of ip2\n",
    "    relations+= [(i,ip1.size()+1) for i in ip1.increasing_roots()]\n",
    "    return TamariIntervalPoset(size,relations)\n",
    "    \n",
    "def right_product(ip1, ip2):\n",
    "    size = ip1.size() + ip2.size()\n",
    "    # Juxtaposition of ip1 and shifted ip2\n",
    "    relations = list(ip1._cover_relations) + [(i+ip1.size(),j+ip1.size()) for (i,j) in ip2._cover_relations]\n",
    "    # First element: no extra decreasing relation\n",
    "    yield TamariIntervalPoset(size,relations)\n",
    "    for j in ip2.decreasing_roots():\n",
    "        # Adding decreasing relations 1 by 1\n",
    "        relations.append((j+ip1.size(),ip1.size()))\n",
    "        yield TamariIntervalPoset(size,relations)\n",
    "        \n",
    "def composition(ip1,ip2):\n",
    "    u = TamariIntervalPoset(1,[])\n",
    "    left = left_product(ip1,u)\n",
    "    for r in right_product(left,ip2):\n",
    "        yield r"
   ]
  },
  {
   "cell_type": "markdown",
   "metadata": {},
   "source": [
    "Here is an example of computation that corresponds to Figure 13 of [1]. "
   ]
  },
  {
   "cell_type": "code",
   "execution_count": 6,
   "metadata": {
    "collapsed": false
   },
   "outputs": [
    {
     "data": {
      "text/plain": [
       "[The Tamari interval of size 8 induced by relations [(1, 2), (2, 4), (3, 4), (6, 7), (8, 7), (3, 2)],\n",
       " The Tamari interval of size 8 induced by relations [(1, 2), (2, 4), (3, 4), (6, 7), (8, 7), (5, 4), (3, 2)],\n",
       " The Tamari interval of size 8 induced by relations [(1, 2), (2, 4), (3, 4), (6, 7), (8, 7), (6, 4), (5, 4), (3, 2)],\n",
       " The Tamari interval of size 8 induced by relations [(1, 2), (2, 4), (3, 4), (6, 7), (8, 7), (7, 4), (6, 4), (5, 4), (3, 2)]]"
      ]
     },
     "execution_count": 6,
     "metadata": {},
     "output_type": "execute_result"
    }
   ],
   "source": [
    "ip1 = TamariIntervalPoset(3,[(1,2),(3,2)])\n",
    "ip2 = TamariIntervalPoset(4,[(2,3),(4,3)])\n",
    "r = list(composition(ip1,ip2))\n",
    "r"
   ]
  },
  {
   "cell_type": "code",
   "execution_count": 7,
   "metadata": {
    "collapsed": false
   },
   "outputs": [
    {
     "data": {
      "image/png": "[encoded data removed]",
      "text/plain": [
       "<IPython.core.display.Image object>"
      ]
     },
     "metadata": {},
     "output_type": "display_data"
    },
    {
     "data": {
      "image/png": "[encoded data removed]",
      "text/plain": [
       "<IPython.core.display.Image object>"
      ]
     },
     "metadata": {},
     "output_type": "display_data"
    },
    {
     "data": {
      "image/png": "[encoded data removed]",
      "text/plain": [
       "<IPython.core.display.Image object>"
      ]
     },
     "metadata": {},
     "output_type": "display_data"
    },
    {
     "data": {
      "image/png": "[encoded data removed]",
      "text/plain": [
       "<IPython.core.display.Image object>"
      ]
     },
     "metadata": {},
     "output_type": "display_data"
    }
   ],
   "source": [
    "viewLatex(r)"
   ]
  },
  {
   "cell_type": "markdown",
   "metadata": {},
   "source": [
    "There is also a $m$-composition defined in [1] which is implemented below. "
   ]
  },
  {
   "cell_type": "code",
   "execution_count": 8,
   "metadata": {
    "collapsed": false
   },
   "outputs": [],
   "source": [
    "def right_product_dim(ip1,ip2):\n",
    "    size = ip1.size() + ip2.size()\n",
    "    # Juxtaposition of ip1 and shifted ip2\n",
    "    relations = list(ip1._cover_relations) + [(i+ip1.size(),j+ip1.size()) for (i,j) in ip2._cover_relations]\n",
    "    for j in ip2.decreasing_roots():\n",
    "        # Adding decreasing relations 1 by 1\n",
    "        relations.append((j+ip1.size(),ip1.size()))\n",
    "        yield TamariIntervalPoset(size,relations)\n",
    "        \n",
    "def mcomposition(ips):\n",
    "    rights = ips[1:] # we take the list of intervals excpect the first one\n",
    "    def compute_rights(rights): # we define a recursive method to compute the right part\n",
    "        u = TamariIntervalPoset(1,[])\n",
    "        if len(rights)==1:\n",
    "            for r in right_product(u,rights[0]):\n",
    "                yield r\n",
    "        else:\n",
    "            for r1 in compute_rights(rights[1:]):\n",
    "                r1 = left_product(r1,rights[0])\n",
    "                for r2 in right_product_dim(u,r1):\n",
    "                    yield r2\n",
    "    for r in compute_rights(rights):\n",
    "        yield left_product(ips[0],r)"
   ]
  },
  {
   "cell_type": "markdown",
   "metadata": {},
   "source": [
    "Here is an example corresponding to (4.16) of [1]. "
   ]
  },
  {
   "cell_type": "code",
   "execution_count": 9,
   "metadata": {
    "collapsed": false
   },
   "outputs": [
    {
     "data": {
      "text/plain": [
       "[The Tamari interval of size 10 induced by relations [(1, 3), (2, 3), (4, 7), (5, 7), (6, 7), (8, 9), (10, 9), (8, 7), (6, 5), (4, 3), (2, 1)],\n",
       " The Tamari interval of size 10 induced by relations [(1, 3), (2, 3), (4, 7), (5, 7), (6, 7), (8, 9), (10, 9), (8, 7), (6, 5), (5, 3), (4, 3), (2, 1)],\n",
       " The Tamari interval of size 10 induced by relations [(1, 3), (2, 3), (4, 7), (5, 7), (6, 7), (8, 9), (10, 9), (8, 7), (7, 3), (6, 5), (5, 3), (4, 3), (2, 1)],\n",
       " The Tamari interval of size 10 induced by relations [(1, 3), (2, 3), (4, 7), (5, 7), (6, 7), (8, 9), (10, 9), (9, 3), (8, 7), (7, 3), (6, 5), (5, 3), (4, 3), (2, 1)],\n",
       " The Tamari interval of size 10 induced by relations [(1, 3), (2, 3), (4, 7), (5, 7), (6, 7), (8, 9), (10, 9), (8, 7), (6, 5), (5, 4), (4, 3), (2, 1)],\n",
       " The Tamari interval of size 10 induced by relations [(1, 3), (2, 3), (4, 7), (5, 7), (6, 7), (8, 9), (10, 9), (8, 7), (7, 3), (6, 5), (5, 4), (4, 3), (2, 1)],\n",
       " The Tamari interval of size 10 induced by relations [(1, 3), (2, 3), (4, 7), (5, 7), (6, 7), (8, 9), (10, 9), (9, 3), (8, 7), (7, 3), (6, 5), (5, 4), (4, 3), (2, 1)]]"
      ]
     },
     "execution_count": 9,
     "metadata": {},
     "output_type": "execute_result"
    }
   ],
   "source": [
    "ip1 = TamariIntervalPoset(2,[(2,1)])\n",
    "ip2 = TamariIntervalPoset(4,[(2,1),(4,3),(2,3)])\n",
    "ip3 = ip1\n",
    "r = list(mcomposition([ip1,ip2,ip3]))\n",
    "r"
   ]
  },
  {
   "cell_type": "code",
   "execution_count": 10,
   "metadata": {
    "collapsed": false
   },
   "outputs": [
    {
     "data": {
      "image/png": "[encoded data removed]",
      "text/plain": [
       "<IPython.core.display.Image object>"
      ]
     },
     "metadata": {},
     "output_type": "display_data"
    },
    {
     "data": {
      "image/png": "[encoded data removed]",
      "text/plain": [
       "<IPython.core.display.Image object>"
      ]
     },
     "metadata": {},
     "output_type": "display_data"
    },
    {
     "data": {
      "image/png": "[encoded data removed]",
      "text/plain": [
       "<IPython.core.display.Image object>"
      ]
     },
     "metadata": {},
     "output_type": "display_data"
    },
    {
     "data": {
      "image/png": "[encoded data removed]",
      "text/plain": [
       "<IPython.core.display.Image object>"
      ]
     },
     "metadata": {},
     "output_type": "display_data"
    },
    {
     "data": {
      "image/png": "[encoded data removed]",
      "text/plain": [
       "<IPython.core.display.Image object>"
      ]
     },
     "metadata": {},
     "output_type": "display_data"
    },
    {
     "data": {
      "image/png": "[encoded data removed]",
      "text/plain": [
       "<IPython.core.display.Image object>"
      ]
     },
     "metadata": {},
     "output_type": "display_data"
    },
    {
     "data": {
      "image/png": "[encoded data removed]",
      "text/plain": [
       "<IPython.core.display.Image object>"
      ]
     },
     "metadata": {},
     "output_type": "display_data"
    }
   ],
   "source": [
    "viewLatex(r)"
   ]
  },
  {
   "cell_type": "code",
   "execution_count": null,
   "metadata": {
    "collapsed": true
   },
   "outputs": [],
   "source": []
  }
 ],
 "metadata": {
  "kernelspec": {
   "display_name": "SageMath 7.5.1",
   "language": "",
   "name": "sagemath"
  },
  "language_info": {
   "codemirror_mode": {
    "name": "ipython",
    "version": 2
   },
   "file_extension": ".py",
   "mimetype": "text/x-python",
   "name": "python",
   "nbconvert_exporter": "python",
   "pygments_lexer": "ipython2",
   "version": "2.7.13"
  }
 },
 "nbformat": 4,
 "nbformat_minor": 0
}
