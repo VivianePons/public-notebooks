{
 "cells": [
  {
   "cell_type": "markdown",
   "metadata": {},
   "source": [
    "# The Rise-Contact involution on Interval-posets\n",
    "\n",
    "The notebook shows some implementation related to [2] the original definition of Tamari Interval-posets ca be found in [1].\n",
    " \n",
    "[1] Grégory Châtel and Viviane Pons. [Counting smaller elements in the Tamari and m-Tamari lattices](http://arxiv.org/abs/1311.3922), Journal of Combinatorial Theory, Series A, 134():58 – 97, 2015. \n",
    "\n",
    "[2] Viviane Pons. The Rise-Contact involution on Tamari Intervals\n",
    "\n"
   ]
  },
  {
   "cell_type": "code",
   "execution_count": 38,
   "metadata": {
    "collapsed": true
   },
   "outputs": [],
   "source": [
    "# utils: a function to show latex printed objects in the notebook\n",
    "# useful to show objects on a Jupyter notebook\n",
    "# on a local Sage instal, just use view(objects)\n",
    "from sage.misc.latex import _Latex_prefs\n",
    "from sage.misc.latex import png\n",
    "import os\n",
    "from IPython.display import Image\n",
    "def viewLatex(objects):\n",
    "    engine = _Latex_prefs._option[\"engine\"]\n",
    "    file_name = tmp_filename() + \".png\"\n",
    "    png(objects, file_name, debug = False, engine = engine)\n",
    "    return Image(filename = file_name)"
   ]
  },
  {
   "cell_type": "markdown",
   "metadata": {},
   "source": [
    "## Statistics\n",
    "\n",
    "First let us see how to get the different statistics on Tamari intervals referenced in the paper.\n",
    "\n",
    "The *number of contacts* and *initial rises* are already implemented for Dyck Paths."
   ]
  },
  {
   "cell_type": "code",
   "execution_count": 39,
   "metadata": {
    "collapsed": true
   },
   "outputs": [],
   "source": [
    "dw = DyckWord([1,1,0,1,1,0,0,0,1,1,0,1,1,0,1,1,0,0,0,0])"
   ]
  },
  {
   "cell_type": "code",
   "execution_count": 40,
   "metadata": {
    "collapsed": false
   },
   "outputs": [
    {
     "data": {
      "image/png": "[encoded data removed]",
      "text/plain": [
       "<IPython.core.display.Image object>"
      ]
     },
     "execution_count": 40,
     "metadata": {},
     "output_type": "execute_result"
    }
   ],
   "source": [
    "viewLatex(dw)"
   ]
  },
  {
   "cell_type": "code",
   "execution_count": 41,
   "metadata": {
    "collapsed": false
   },
   "outputs": [
    {
     "data": {
      "text/plain": [
       "2"
      ]
     },
     "execution_count": 41,
     "metadata": {},
     "output_type": "execute_result"
    }
   ],
   "source": [
    "dw.number_of_touch_points()"
   ]
  },
  {
   "cell_type": "code",
   "execution_count": 42,
   "metadata": {
    "collapsed": false
   },
   "outputs": [
    {
     "data": {
      "text/plain": [
       "2"
      ]
     },
     "execution_count": 42,
     "metadata": {},
     "output_type": "execute_result"
    }
   ],
   "source": [
    "dw.number_of_initial_rises()"
   ]
  },
  {
   "cell_type": "code",
   "execution_count": 43,
   "metadata": {
    "collapsed": true
   },
   "outputs": [],
   "source": [
    "def contact_vector(dw):\n",
    "    x = 0\n",
    "    y = 0\n",
    "    vector = [dw.number_of_touch_points()]\n",
    "    for i,step in enumerate(dw):\n",
    "        if step == 1:\n",
    "            y += 1\n",
    "            d = y - x\n",
    "            c = 0\n",
    "            xx = x\n",
    "            yy = y\n",
    "            for k in xrange(i+1,len(dw)):\n",
    "                dd = yy - xx\n",
    "                if dd == d:\n",
    "                    c+=1\n",
    "                elif dd < d:\n",
    "                    break\n",
    "                xx, yy = (xx+1, yy) if dw[k] == 0 else (xx, yy+1)\n",
    "            c -= 1\n",
    "            vector.append(c)\n",
    "            \n",
    "        else:\n",
    "            x += 1\n",
    "    return vector[:-1]"
   ]
  },
  {
   "cell_type": "code",
   "execution_count": 44,
   "metadata": {
    "collapsed": false
   },
   "outputs": [
    {
     "data": {
      "text/plain": [
       "[2, 2, 0, 1, 0, 2, 0, 2, 0, 1]"
      ]
     },
     "execution_count": 44,
     "metadata": {},
     "output_type": "execute_result"
    }
   ],
   "source": [
    "contact_vector(dw)"
   ]
  },
  {
   "cell_type": "code",
   "execution_count": 45,
   "metadata": {
    "collapsed": false
   },
   "outputs": [],
   "source": [
    "def rise_vector(dw):\n",
    "    vector = []\n",
    "    r = 0\n",
    "    for step in dw:\n",
    "        if step == 0:\n",
    "            vector.append(r)\n",
    "            r = 0\n",
    "        else:\n",
    "            r+=1\n",
    "    return vector"
   ]
  },
  {
   "cell_type": "code",
   "execution_count": 46,
   "metadata": {
    "collapsed": false
   },
   "outputs": [
    {
     "data": {
      "text/plain": [
       "[2, 2, 0, 0, 2, 2, 2, 0, 0, 0]"
      ]
     },
     "execution_count": 46,
     "metadata": {},
     "output_type": "execute_result"
    }
   ],
   "source": [
    "rise_vector(dw)"
   ]
  },
  {
   "cell_type": "markdown",
   "metadata": {},
   "source": [
    "We represent the contact monomial and rise monomial as partitions: each occurrence of $i$ in the list represents an occurrence of $x_i$ (resp. $y_i$) in the monomial."
   ]
  },
  {
   "cell_type": "code",
   "execution_count": 47,
   "metadata": {
    "collapsed": true
   },
   "outputs": [],
   "source": [
    "def contact_monomial(dw):\n",
    "    v = contact_vector(dw)\n",
    "    v.sort()\n",
    "    v.reverse()\n",
    "    return v"
   ]
  },
  {
   "cell_type": "code",
   "execution_count": 48,
   "metadata": {
    "collapsed": true
   },
   "outputs": [],
   "source": [
    "def rise_monomial(dw):\n",
    "    v = rise_vector(dw)\n",
    "    v.sort()\n",
    "    v.reverse()\n",
    "    return v"
   ]
  },
  {
   "cell_type": "code",
   "execution_count": 49,
   "metadata": {
    "collapsed": false
   },
   "outputs": [
    {
     "data": {
      "text/plain": [
       "[2, 2, 2, 2, 1, 1, 0, 0, 0, 0]"
      ]
     },
     "execution_count": 49,
     "metadata": {},
     "output_type": "execute_result"
    }
   ],
   "source": [
    "contact_monomial(dw)"
   ]
  },
  {
   "cell_type": "code",
   "execution_count": 50,
   "metadata": {
    "collapsed": false
   },
   "outputs": [
    {
     "data": {
      "text/plain": [
       "[2, 2, 2, 2, 2, 0, 0, 0, 0, 0]"
      ]
     },
     "execution_count": 50,
     "metadata": {},
     "output_type": "execute_result"
    }
   ],
   "source": [
    "rise_monomial(dw)"
   ]
  },
  {
   "cell_type": "markdown",
   "metadata": {},
   "source": [
    "Here are the basic functions to get those statistics on interval-posets."
   ]
  },
  {
   "cell_type": "code",
   "execution_count": 51,
   "metadata": {
    "collapsed": true
   },
   "outputs": [],
   "source": [
    "def contacts_interval(tip):\n",
    "    return tip.lower_dyck_word().number_of_touch_points()\n",
    "\n",
    "def rises_interval(tip):\n",
    "    return tip.upper_dyck_word().number_of_initial_rises()\n",
    "\n",
    "def contact_vector_interval(tip):\n",
    "    return contact_vector(tip.lower_dyck_word())\n",
    "\n",
    "def rise_vector_interval(tip):\n",
    "    return rise_vector(tip.upper_dyck_word())\n",
    "\n",
    "def contact_monomial_interval(tip):\n",
    "    return contact_monomial(tip.lower_dyck_word())\n",
    "\n",
    "def rise_monomial_interval(tip):\n",
    "    return rise_monomial(tip.upper_dyck_word())"
   ]
  },
  {
   "cell_type": "code",
   "execution_count": 52,
   "metadata": {
    "collapsed": true
   },
   "outputs": [],
   "source": [
    "# The interval poset of Fig. 3\n",
    "tip = TamariIntervalPoset(10, [(2,5), (3,4), (4,5), (6,7), (8,10), (9,10), (3,2), (4,2), (6,5), (7,5), (8,5), (10,5), (9,8)])"
   ]
  },
  {
   "cell_type": "code",
   "execution_count": 53,
   "metadata": {
    "collapsed": false
   },
   "outputs": [
    {
     "data": {
      "text/plain": [
       "The Tamari interval of size 10 induced by relations [(2, 5), (3, 4), (4, 5), (6, 7), (8, 10), (9, 10), (10, 5), (9, 8), (8, 5), (7, 5), (6, 5), (4, 2), (3, 2)]"
      ]
     },
     "execution_count": 53,
     "metadata": {},
     "output_type": "execute_result"
    }
   ],
   "source": [
    "tip"
   ]
  },
  {
   "cell_type": "code",
   "execution_count": 54,
   "metadata": {
    "collapsed": false
   },
   "outputs": [
    {
     "data": {
      "image/png": "[encoded data removed]",
      "text/plain": [
       "<IPython.core.display.Image object>"
      ]
     },
     "execution_count": 54,
     "metadata": {},
     "output_type": "execute_result"
    }
   ],
   "source": [
    "viewLatex(tip)"
   ]
  },
  {
   "cell_type": "code",
   "execution_count": 55,
   "metadata": {
    "collapsed": false
   },
   "outputs": [
    {
     "data": {
      "text/plain": [
       "3"
      ]
     },
     "execution_count": 55,
     "metadata": {},
     "output_type": "execute_result"
    }
   ],
   "source": [
    "contacts_interval(tip)"
   ]
  },
  {
   "cell_type": "code",
   "execution_count": 56,
   "metadata": {
    "collapsed": false
   },
   "outputs": [
    {
     "data": {
      "text/plain": [
       "3"
      ]
     },
     "execution_count": 56,
     "metadata": {},
     "output_type": "execute_result"
    }
   ],
   "source": [
    "rises_interval(tip)"
   ]
  },
  {
   "cell_type": "code",
   "execution_count": 57,
   "metadata": {
    "collapsed": false
   },
   "outputs": [
    {
     "data": {
      "text/plain": [
       "[3, 0, 2, 0, 0, 4, 0, 0, 1, 0]"
      ]
     },
     "execution_count": 57,
     "metadata": {},
     "output_type": "execute_result"
    }
   ],
   "source": [
    "contact_vector_interval(tip)"
   ]
  },
  {
   "cell_type": "code",
   "execution_count": 58,
   "metadata": {
    "collapsed": false
   },
   "outputs": [
    {
     "data": {
      "text/plain": [
       "[3, 1, 0, 2, 3, 0, 1, 0, 0, 0]"
      ]
     },
     "execution_count": 58,
     "metadata": {},
     "output_type": "execute_result"
    }
   ],
   "source": [
    "rise_vector_interval(tip)"
   ]
  },
  {
   "cell_type": "code",
   "execution_count": 59,
   "metadata": {
    "collapsed": false
   },
   "outputs": [
    {
     "data": {
      "text/plain": [
       "[4, 3, 2, 1, 0, 0, 0, 0, 0, 0]"
      ]
     },
     "execution_count": 59,
     "metadata": {},
     "output_type": "execute_result"
    }
   ],
   "source": [
    "contact_monomial_interval(tip)"
   ]
  },
  {
   "cell_type": "code",
   "execution_count": 60,
   "metadata": {
    "collapsed": false
   },
   "outputs": [
    {
     "data": {
      "text/plain": [
       "[3, 3, 2, 1, 1, 0, 0, 0, 0, 0]"
      ]
     },
     "execution_count": 60,
     "metadata": {},
     "output_type": "execute_result"
    }
   ],
   "source": [
    "rise_monomial_interval(tip)"
   ]
  },
  {
   "cell_type": "markdown",
   "metadata": {},
   "source": [
    "The paper also defined the DC and IC vectors."
   ]
  },
  {
   "cell_type": "code",
   "execution_count": 61,
   "metadata": {
    "collapsed": true
   },
   "outputs": [],
   "source": [
    "def dc(tip):\n",
    "    L = [len(tip.decreasing_children(i)) for i in tip]\n",
    "    return [len(tip.decreasing_roots())] + L[:-1]\n",
    "\n",
    "def ic(tip):\n",
    "    L = [len(tip.increasing_children(i)) for i in tip]\n",
    "    L.reverse()\n",
    "    return [len(tip.increasing_roots())] + L[:-1]"
   ]
  },
  {
   "cell_type": "code",
   "execution_count": 62,
   "metadata": {
    "collapsed": false
   },
   "outputs": [
    {
     "data": {
      "text/plain": [
       "[3, 0, 2, 0, 0, 4, 0, 0, 1, 0]"
      ]
     },
     "execution_count": 62,
     "metadata": {},
     "output_type": "execute_result"
    }
   ],
   "source": [
    "dc(tip)"
   ]
  },
  {
   "cell_type": "code",
   "execution_count": 63,
   "metadata": {
    "collapsed": false
   },
   "outputs": [
    {
     "data": {
      "text/plain": [
       "[4, 2, 0, 0, 1, 0, 2, 1, 0, 0]"
      ]
     },
     "execution_count": 63,
     "metadata": {},
     "output_type": "execute_result"
    }
   ],
   "source": [
    "ic(tip)"
   ]
  },
  {
   "cell_type": "markdown",
   "metadata": {},
   "source": [
    "You can check that DC is similar to the contact vector."
   ]
  },
  {
   "cell_type": "code",
   "execution_count": 64,
   "metadata": {
    "collapsed": false
   },
   "outputs": [
    {
     "data": {
      "text/plain": [
       "True"
      ]
     },
     "execution_count": 64,
     "metadata": {},
     "output_type": "execute_result"
    }
   ],
   "source": [
    "all(dc(v) == contact_vector_interval(v) for v in TamariIntervalPosets(4))"
   ]
  },
  {
   "cell_type": "markdown",
   "metadata": {},
   "source": [
    "The *distance* statistic can be computed directly on interval-posets by computing the number of Tamari inversions."
   ]
  },
  {
   "cell_type": "code",
   "execution_count": 65,
   "metadata": {
    "collapsed": false
   },
   "outputs": [
    {
     "data": {
      "text/plain": [
       "4"
      ]
     },
     "execution_count": 65,
     "metadata": {},
     "output_type": "execute_result"
    }
   ],
   "source": [
    "tip.number_of_tamari_inversions()"
   ]
  },
  {
   "cell_type": "markdown",
   "metadata": {},
   "source": [
    "## Involutions\n",
    "\n",
    "### Grafting Trees"
   ]
  },
  {
   "cell_type": "markdown",
   "metadata": {},
   "source": [
    "The following functions gives the grafting-tree of an interval-poset and the inverse construction."
   ]
  },
  {
   "cell_type": "code",
   "execution_count": 66,
   "metadata": {
    "collapsed": true
   },
   "outputs": [],
   "source": [
    "def decompose(tip):\n",
    "    \"\"\"\n",
    "    Decompose an interval-poset into a triplet (left, right, r)\n",
    "    \n",
    "    Input:\n",
    "        - tip, an interval poset\n",
    "        \n",
    "    Output: a triplet (left, right, r) where left and right are interval posets and r \n",
    "    is the parameter of the composition.\n",
    "    \"\"\"\n",
    "    n = tip.size()\n",
    "    if n == 0:\n",
    "        return None\n",
    "    root = tip.increasing_roots()[-1]\n",
    "    r = len(tip.decreasing_children(root))\n",
    "    left = tip.sub_poset(1,root)\n",
    "    right = tip.sub_poset(root+1,tip.size()+1)\n",
    "    return left, right, r\n",
    "\n",
    "def recompose(left, right, r):\n",
    "    \"\"\"\n",
    "    Recompose an interval-poset from a triplet (left, right, r)\n",
    "    \n",
    "    Input:\n",
    "        - left, an interval-poset\n",
    "        - right, an interval-poset\n",
    "        - r, the parameter of the recomposition\n",
    "        \n",
    "    Output: an interval-poset\n",
    "    \"\"\"\n",
    "    root = left.size() + 1\n",
    "    rel = left.poset().cover_relations()\n",
    "    rel.extend((i,root) for i in left)\n",
    "    rel.extend((root+a,root+b) for a,b in right.poset().cover_relations())\n",
    "    decroot = right.decreasing_roots()[:r]\n",
    "    rel.extend((root+i,root) for i in decroot)\n",
    "    return TamariIntervalPoset(left.size()+right.size()+1,rel)\n",
    "    \n",
    "def grafting_tree(tip):\n",
    "    n = tip.size()\n",
    "    if n == 0:\n",
    "        return LabelledBinaryTree(None)\n",
    "    left, right, r = decompose(tip)\n",
    "    return LabelledBinaryTree([grafting_tree(left), grafting_tree(right)], label = r)\n",
    "\n",
    "def interval_from_grafting_tree(tree):\n",
    "    if tree.is_empty():\n",
    "        return TamariIntervalPoset(0,[])\n",
    "    r = tree.label()\n",
    "    left = interval_from_grafting_tree(tree[0])\n",
    "    right = interval_from_grafting_tree(tree[1])\n",
    "    return recompose(left, right, r)"
   ]
  },
  {
   "cell_type": "markdown",
   "metadata": {},
   "source": [
    "Here is the computation of the example of Fig. 19."
   ]
  },
  {
   "cell_type": "code",
   "execution_count": 67,
   "metadata": {
    "collapsed": false
   },
   "outputs": [],
   "source": [
    "tip = TamariIntervalPoset(8, [(1,2), (2,4), (3,4), (6,7), (3,2), (5,4), (6,4), (8,7)])"
   ]
  },
  {
   "cell_type": "code",
   "execution_count": 68,
   "metadata": {
    "collapsed": false
   },
   "outputs": [
    {
     "data": {
      "text/plain": [
       "(The Tamari interval of size 3 induced by relations [(1, 2), (3, 2)],\n",
       " The Tamari interval of size 4 induced by relations [(2, 3), (4, 3)],\n",
       " 2)"
      ]
     },
     "execution_count": 68,
     "metadata": {},
     "output_type": "execute_result"
    }
   ],
   "source": [
    "decompose(tip)"
   ]
  },
  {
   "cell_type": "code",
   "execution_count": 69,
   "metadata": {
    "collapsed": false
   },
   "outputs": [
    {
     "data": {
      "image/png": "[encoded data removed]",
      "text/plain": [
       "<IPython.core.display.Image object>"
      ]
     },
     "execution_count": 69,
     "metadata": {},
     "output_type": "execute_result"
    }
   ],
   "source": [
    "viewLatex(decompose(tip))"
   ]
  },
  {
   "cell_type": "code",
   "execution_count": 70,
   "metadata": {
    "collapsed": false
   },
   "outputs": [
    {
     "data": {
      "image/png": "[encoded data removed]",
      "text/plain": [
       "<IPython.core.display.Image object>"
      ]
     },
     "execution_count": 70,
     "metadata": {},
     "output_type": "execute_result"
    }
   ],
   "source": [
    "viewLatex(grafting_tree(tip))"
   ]
  },
  {
   "cell_type": "code",
   "execution_count": 71,
   "metadata": {
    "collapsed": false
   },
   "outputs": [
    {
     "data": {
      "text/plain": [
       "2[1[0[., .], 0[., .]], 0[., 1[0[., .], 0[., .]]]]"
      ]
     },
     "execution_count": 71,
     "metadata": {},
     "output_type": "execute_result"
    }
   ],
   "source": [
    "t = grafting_tree(tip)\n",
    "t"
   ]
  },
  {
   "cell_type": "code",
   "execution_count": 72,
   "metadata": {
    "collapsed": false
   },
   "outputs": [
    {
     "data": {
      "text/plain": [
       "True"
      ]
     },
     "execution_count": 72,
     "metadata": {},
     "output_type": "execute_result"
    }
   ],
   "source": [
    "tip == interval_from_grafting_tree(t)"
   ]
  },
  {
   "cell_type": "markdown",
   "metadata": {},
   "source": [
    "### Left branch involution\n",
    "\n",
    "This allows us to implement very easily the left branch involution."
   ]
  },
  {
   "cell_type": "code",
   "execution_count": 73,
   "metadata": {
    "collapsed": false
   },
   "outputs": [
    {
     "data": {
      "image/png": "[encoded data removed]",
      "text/plain": [
       "<IPython.core.display.Image object>"
      ]
     },
     "execution_count": 73,
     "metadata": {},
     "output_type": "execute_result"
    }
   ],
   "source": [
    "viewLatex(t)"
   ]
  },
  {
   "cell_type": "code",
   "execution_count": 74,
   "metadata": {
    "collapsed": false
   },
   "outputs": [
    {
     "data": {
      "image/png": "[encoded data removed]",
      "text/plain": [
       "<IPython.core.display.Image object>"
      ]
     },
     "execution_count": 74,
     "metadata": {},
     "output_type": "execute_result"
    }
   ],
   "source": [
    "viewLatex(t.left_border_symmetry())"
   ]
  },
  {
   "cell_type": "code",
   "execution_count": 75,
   "metadata": {
    "collapsed": true
   },
   "outputs": [],
   "source": [
    "def left_branch_involution(tip):\n",
    "    return interval_from_grafting_tree(grafting_tree(tip).left_border_symmetry())"
   ]
  },
  {
   "cell_type": "code",
   "execution_count": 76,
   "metadata": {
    "collapsed": false
   },
   "outputs": [
    {
     "data": {
      "image/png": "[encoded data removed]",
      "text/plain": [
       "<IPython.core.display.Image object>"
      ]
     },
     "execution_count": 76,
     "metadata": {},
     "output_type": "execute_result"
    }
   ],
   "source": [
    "viewLatex(left_branch_involution(tip))"
   ]
  },
  {
   "cell_type": "markdown",
   "metadata": {},
   "source": [
    "You can check that the left branch involution exchanges the IC vector and rise vector while keeping the contact monomial and distance."
   ]
  },
  {
   "cell_type": "code",
   "execution_count": 77,
   "metadata": {
    "collapsed": true
   },
   "outputs": [],
   "source": [
    "def check_left_branch_involution_statistics(tip):\n",
    "    image = left_branch_involution(tip)\n",
    "    return rise_vector_interval(image) == ic(tip) \\\n",
    "    and contact_monomial_interval(image) == contact_monomial_interval(tip) \\\n",
    "    and image.number_of_tamari_inversions() == tip.number_of_tamari_inversions()"
   ]
  },
  {
   "cell_type": "code",
   "execution_count": 78,
   "metadata": {
    "collapsed": false
   },
   "outputs": [
    {
     "data": {
      "text/plain": [
       "True"
      ]
     },
     "execution_count": 78,
     "metadata": {},
     "output_type": "execute_result"
    }
   ],
   "source": [
    "check_left_branch_involution_statistics(tip)"
   ]
  },
  {
   "cell_type": "code",
   "execution_count": 79,
   "metadata": {
    "collapsed": false
   },
   "outputs": [
    {
     "data": {
      "text/plain": [
       "True"
      ]
     },
     "execution_count": 79,
     "metadata": {},
     "output_type": "execute_result"
    }
   ],
   "source": [
    "all(check_left_branch_involution_statistics(v) for v in TamariIntervalPosets(4))"
   ]
  },
  {
   "cell_type": "markdown",
   "metadata": {
    "collapsed": true
   },
   "source": [
    "### The Rise-contact involution\n",
    "\n",
    "The complement involution is already implemented in Sage."
   ]
  },
  {
   "cell_type": "code",
   "execution_count": 80,
   "metadata": {
    "collapsed": false
   },
   "outputs": [
    {
     "data": {
      "text/plain": [
       "The Tamari interval of size 8 induced by relations [(1, 2), (3, 5), (4, 5), (6, 7), (8, 7), (7, 5), (6, 5), (3, 2)]"
      ]
     },
     "execution_count": 80,
     "metadata": {},
     "output_type": "execute_result"
    }
   ],
   "source": [
    "tip.complement()"
   ]
  },
  {
   "cell_type": "code",
   "execution_count": 81,
   "metadata": {
    "collapsed": false
   },
   "outputs": [
    {
     "data": {
      "image/png": "[encoded data removed]",
      "text/plain": [
       "<IPython.core.display.Image object>"
      ]
     },
     "execution_count": 81,
     "metadata": {},
     "output_type": "execute_result"
    }
   ],
   "source": [
    "viewLatex(tip.complement())"
   ]
  },
  {
   "cell_type": "markdown",
   "metadata": {},
   "source": [
    "This allows us to trivially implement the Rise-contact involution on interval-poset"
   ]
  },
  {
   "cell_type": "code",
   "execution_count": 82,
   "metadata": {
    "collapsed": true
   },
   "outputs": [],
   "source": [
    "def rise_contact_involution(tip):\n",
    "    \"\"\"\n",
    "    The Rise-contact involution on interval-posets\n",
    "    \"\"\"\n",
    "    return left_branch_involution(left_branch_involution(tip).complement())\n",
    "\n",
    "def rise_contact_involution_grafting_tree(t):\n",
    "    \"\"\"\n",
    "    The Rise-contact involution on a grafting tree\n",
    "    \"\"\"\n",
    "    t = t.left_border_symmetry()\n",
    "    tip = interval_from_grafting_tree(t).complement()\n",
    "    return grafting_tree(tip).left_border_symmetry()\n"
   ]
  },
  {
   "cell_type": "code",
   "execution_count": 83,
   "metadata": {
    "collapsed": false
   },
   "outputs": [
    {
     "data": {
      "image/png": "[encoded data removed]",
      "text/plain": [
       "<IPython.core.display.Image object>"
      ]
     },
     "execution_count": 83,
     "metadata": {},
     "output_type": "execute_result"
    }
   ],
   "source": [
    "# the example of Fig. 22\n",
    "tip = TamariIntervalPoset(8, [(1,2), (2,4), (3,4), (6,7), (3,2), (5,4), (6,4), (8,7)])\n",
    "viewLatex(tip)"
   ]
  },
  {
   "cell_type": "code",
   "execution_count": 84,
   "metadata": {
    "collapsed": false
   },
   "outputs": [
    {
     "data": {
      "image/png": "[encoded data removed]",
      "text/plain": [
       "<IPython.core.display.Image object>"
      ]
     },
     "execution_count": 84,
     "metadata": {},
     "output_type": "execute_result"
    }
   ],
   "source": [
    "viewLatex(rise_contact_involution(tip))"
   ]
  },
  {
   "cell_type": "code",
   "execution_count": 85,
   "metadata": {
    "collapsed": false
   },
   "outputs": [
    {
     "data": {
      "image/png": "[encoded data removed]",
      "text/plain": [
       "<IPython.core.display.Image object>"
      ]
     },
     "execution_count": 85,
     "metadata": {},
     "output_type": "execute_result"
    }
   ],
   "source": [
    "t = grafting_tree(tip)\n",
    "viewLatex(t)"
   ]
  },
  {
   "cell_type": "code",
   "execution_count": 86,
   "metadata": {
    "collapsed": false
   },
   "outputs": [
    {
     "data": {
      "image/png": "[encoded data removed]",
      "text/plain": [
       "<IPython.core.display.Image object>"
      ]
     },
     "execution_count": 86,
     "metadata": {},
     "output_type": "execute_result"
    }
   ],
   "source": [
    "viewLatex(rise_contact_involution_grafting_tree(t))"
   ]
  },
  {
   "cell_type": "markdown",
   "metadata": {},
   "source": [
    "**The following function allows you to compute the involution directly on an interval $[D_1, D_2]$ given by two Dyck paths** "
   ]
  },
  {
   "cell_type": "code",
   "execution_count": 87,
   "metadata": {
    "collapsed": true
   },
   "outputs": [],
   "source": [
    "def rise_contact_involution_dyck_paths_interval(d1, d2):\n",
    "    \"\"\"\n",
    "    The rise-contact involution on a interval of Tamari (d1, d2)\n",
    "    INPUT:\n",
    "        - d1, the lower bound Dyck path\n",
    "        - d2, the upper bound Dyck Path\n",
    "    OUTPUT : a tuple (d1',d2') of Dyck paths\n",
    "    \"\"\"\n",
    "    tip = TamariIntervalPosets.from_dyck_words(d1,d2)\n",
    "    image = rise_contact_involution(tip)\n",
    "    return image.lower_dyck_word(), image.upper_dyck_word()"
   ]
  },
  {
   "cell_type": "code",
   "execution_count": 88,
   "metadata": {
    "collapsed": false
   },
   "outputs": [
    {
     "data": {
      "text/plain": [
       "([1, 1, 1, 1, 0, 1, 0, 0, 1, 0, 1, 0, 0, 1, 0, 0],\n",
       " [1, 1, 1, 1, 0, 1, 1, 0, 0, 1, 0, 0, 0, 1, 0, 0])"
      ]
     },
     "execution_count": 88,
     "metadata": {},
     "output_type": "execute_result"
    }
   ],
   "source": [
    "d1 = DyckWord([1,0,1,1,0,0,1,1,0,1,0,0,1,1,0,0])\n",
    "d2 = DyckWord([1,0,1,1,0,0,1,1,1,0,1,1,0,0,0,0])\n",
    "rise_contact_involution_dyck_paths_interval(d1, d2)"
   ]
  },
  {
   "cell_type": "markdown",
   "metadata": {},
   "source": [
    "Let's check that the involution has the wanted effect on statistics."
   ]
  },
  {
   "cell_type": "code",
   "execution_count": 89,
   "metadata": {
    "collapsed": true
   },
   "outputs": [],
   "source": [
    "def check_rise_contact_statistics(tip):\n",
    "    image = rise_contact_involution(tip)\n",
    "    return contact_monomial_interval(image) == rise_monomial_interval(tip)\\\n",
    "    and contacts_interval(image) == rises_interval(tip) \\\n",
    "    and tip.number_of_tamari_inversions() == image.number_of_tamari_inversions()"
   ]
  },
  {
   "cell_type": "code",
   "execution_count": 90,
   "metadata": {
    "collapsed": false
   },
   "outputs": [
    {
     "data": {
      "text/plain": [
       "True"
      ]
     },
     "execution_count": 90,
     "metadata": {},
     "output_type": "execute_result"
    }
   ],
   "source": [
    "check_rise_contact_statistics(tip)"
   ]
  },
  {
   "cell_type": "code",
   "execution_count": 91,
   "metadata": {
    "collapsed": false
   },
   "outputs": [
    {
     "data": {
      "text/plain": [
       "True"
      ]
     },
     "execution_count": 91,
     "metadata": {},
     "output_type": "execute_result"
    }
   ],
   "source": [
    "all(check_rise_contact_statistics(v) for v in TamariIntervalPosets(4))"
   ]
  },
  {
   "cell_type": "markdown",
   "metadata": {},
   "source": [
    "## $m$-Tamari intervals"
   ]
  },
  {
   "cell_type": "markdown",
   "metadata": {},
   "source": [
    "### $m$-ballot paths, intervals and statistics\n",
    "\n",
    "$m$-ballot paths are not natively implemented in sage, we represent them by a `tuple` of 0 and 1. The following functions implement the $m$-Tamari cover relations and allow to generate all intervals of the $m$-Tamari lattice."
   ]
  },
  {
   "cell_type": "code",
   "execution_count": 92,
   "metadata": {
    "collapsed": true
   },
   "outputs": [],
   "source": [
    "def m_rotations(m, path):\n",
    "    \"\"\"\n",
    "    A generator of the paths obtained by a Tamari rotation on `path`\n",
    "    \n",
    "    INPUT:\n",
    "    \n",
    "        - `m` an integer, the paramter of the m-Tamari lattice\n",
    "        - `path` a m-ballot path\n",
    "    \"\"\"\n",
    "    for i in xrange(len(path)-1):\n",
    "        if path[i] == 0 and path[i+1] == 1:\n",
    "            x,y = 0,0\n",
    "            for j in xrange(i+1, len(path)):\n",
    "                x,y = (x+1,y) if path[j] == 0 else (x,y+1)\n",
    "                if x == m*y:\n",
    "                    break\n",
    "            yield path[:i] + path[i+1:j+1] + path[i:i+1] + path[j+1:]\n",
    "            \n",
    "def m_paths(m,n):\n",
    "    \"\"\"\n",
    "    A generator for $m$-ballot paths\n",
    "    \"\"\"\n",
    "    seed = ((1,) + (0,)*m)*n\n",
    "    return RecursivelyEnumeratedSet([seed], lambda x: m_rotations(m, x))\n",
    "\n",
    "def m_intervals(m, n):\n",
    "    \"\"\"\n",
    "    A generator for intervals of $m$-Tamari lattice given as tuple of $m$-ballot paths\n",
    "    \"\"\"\n",
    "    return RecursivelyEnumeratedSet([(p,p) for p in m_paths(m,n)], lambda (p1,p2): ((p1,pp2) for pp2 in m_rotations(m,p2)))\n",
    "\n",
    "def mcatalan_number(m, n):\n",
    "    return binomial((m+1)*n, n)/(m*n+1)\n",
    "\n",
    "def number_of_mTamari_intervals(m,n):\n",
    "    return binomial((m+1)**2*n+m, n-1) *(m+1)/(n*(m*n+1))"
   ]
  },
  {
   "cell_type": "code",
   "execution_count": 93,
   "metadata": {
    "collapsed": false
   },
   "outputs": [
    {
     "data": {
      "text/plain": [
       "[(1, 0, 0, 1, 0, 0), (1, 0, 1, 0, 0, 0), (1, 1, 0, 0, 0, 0)]"
      ]
     },
     "execution_count": 93,
     "metadata": {},
     "output_type": "execute_result"
    }
   ],
   "source": [
    "list(m_paths(2,2))"
   ]
  },
  {
   "cell_type": "code",
   "execution_count": 94,
   "metadata": {
    "collapsed": false
   },
   "outputs": [
    {
     "data": {
      "text/plain": [
       "[((1, 0, 0, 1, 0, 0), (1, 0, 0, 1, 0, 0)),\n",
       " ((1, 0, 1, 0, 0, 0), (1, 0, 1, 0, 0, 0)),\n",
       " ((1, 1, 0, 0, 0, 0), (1, 1, 0, 0, 0, 0)),\n",
       " ((1, 0, 0, 1, 0, 0), (1, 0, 1, 0, 0, 0)),\n",
       " ((1, 0, 1, 0, 0, 0), (1, 1, 0, 0, 0, 0)),\n",
       " ((1, 0, 0, 1, 0, 0), (1, 1, 0, 0, 0, 0))]"
      ]
     },
     "execution_count": 94,
     "metadata": {},
     "output_type": "execute_result"
    }
   ],
   "source": [
    "list(m_intervals(2,2))"
   ]
  },
  {
   "cell_type": "code",
   "execution_count": 95,
   "metadata": {
    "collapsed": false
   },
   "outputs": [
    {
     "data": {
      "text/plain": [
       "True"
      ]
     },
     "execution_count": 95,
     "metadata": {},
     "output_type": "execute_result"
    }
   ],
   "source": [
    "all(len(list(m_paths(m,n))) == mcatalan_number(m,n) for n in xrange(1,5) for m in xrange(2,5))"
   ]
  },
  {
   "cell_type": "code",
   "execution_count": 96,
   "metadata": {
    "collapsed": false
   },
   "outputs": [
    {
     "data": {
      "text/plain": [
       "True"
      ]
     },
     "execution_count": 96,
     "metadata": {},
     "output_type": "execute_result"
    }
   ],
   "source": [
    "all(len(list(m_intervals(m,n))) == number_of_mTamari_intervals(m,n) for n in xrange(1,5) for m in xrange(2,5))"
   ]
  },
  {
   "cell_type": "code",
   "execution_count": 97,
   "metadata": {
    "collapsed": true
   },
   "outputs": [],
   "source": [
    "def m_contacts(m, path):\n",
    "    \"\"\"\n",
    "    Return the number of non final contacts of the m-ballot path\n",
    "    \"\"\"\n",
    "    d = 0\n",
    "    c = 0\n",
    "    x,y = 0,0\n",
    "    for step in path:\n",
    "        if m*y - x == 0:\n",
    "            c += 1\n",
    "        x,y = (x+1,y) if step == 0 else (x, y+1)\n",
    "    return c\n",
    "\n",
    "def m_contact_vector(m, path):\n",
    "    \"\"\"\n",
    "    Return the m-contact vector of the m-ballot path \n",
    "    \"\"\"\n",
    "    x = 0\n",
    "    y = 0\n",
    "    vector = [m_contacts(m, path)]\n",
    "    for i,step in enumerate(path):\n",
    "        if step == 1:\n",
    "            for j in xrange(1,m+1):\n",
    "                d = m*y + j - x\n",
    "                c = 0\n",
    "                xx = x\n",
    "                yy = y+1\n",
    "                for k in xrange(i+1,len(path)):\n",
    "                    dd = m*yy - xx\n",
    "                    if dd == d:\n",
    "                        c+=1\n",
    "                    elif dd < d:\n",
    "                        break\n",
    "                    xx, yy = (xx+1, yy) if path[k] == 0 else (xx, yy+1)\n",
    "                c -= 1\n",
    "                vector.append(c)\n",
    "            y += 1\n",
    "        else:\n",
    "            x += 1\n",
    "    return vector[:-1]\n",
    "\n",
    "def m_contact_monomial(m, path):\n",
    "    v = m_contact_vector(m, path)\n",
    "    v.sort()\n",
    "    v.reverse()\n",
    "    return v\n",
    "\n",
    "def m_rises(path):\n",
    "    \"\"\"\n",
    "    Return the number of initial rises of the m-ballot path\n",
    "    \"\"\"\n",
    "    r = 0\n",
    "    for step in path:\n",
    "        if step == 0:\n",
    "            return r\n",
    "        r+=1\n",
    "\n",
    "def m_rise_vector(path):\n",
    "    \"\"\"\n",
    "    Return the m-rise vector of the m-ballot path \n",
    "    \"\"\"\n",
    "    vector = []\n",
    "    r = 0\n",
    "    for step in path:\n",
    "        if step == 0:\n",
    "            vector.append(r)\n",
    "            r = 0\n",
    "        else:\n",
    "            r+=1\n",
    "    return vector\n",
    "\n",
    "def m_rise_monomial(path):\n",
    "    v = m_rise_vector(path)\n",
    "    v.sort()\n",
    "    v.reverse()\n",
    "    return v"
   ]
  },
  {
   "cell_type": "code",
   "execution_count": 98,
   "metadata": {
    "collapsed": false
   },
   "outputs": [
    {
     "name": "stdout",
     "output_type": "stream",
     "text": [
      "2\n",
      "[2, 1, 0, 2, 0, 0, 1, 0, 0, 0, 2, 0, 0, 0, 0, 0]\n",
      "[2, 2, 2, 1, 1, 0, 0, 0, 0, 0, 0, 0, 0, 0, 0, 0]\n",
      "1\n",
      "[1, 1, 2, 0, 0, 0, 2, 0, 1, 0, 0, 0, 0, 0, 1, 0]\n",
      "[2, 2, 1, 1, 1, 1, 0, 0, 0, 0, 0, 0, 0, 0, 0, 0]\n"
     ]
    }
   ],
   "source": [
    "# the example of Fig. 25\n",
    "path = (1,0,1,0,1,1,0,0,0,0,1,1,0,0,1,0,0,0,0,0,0,1,0,0)\n",
    "print m_contacts(2,path)\n",
    "print m_contact_vector(2, path)\n",
    "print m_contact_monomial(2, path)\n",
    "print m_rises(path)\n",
    "print m_rise_vector(path)\n",
    "print m_rise_monomial(path)"
   ]
  },
  {
   "cell_type": "code",
   "execution_count": 99,
   "metadata": {
    "collapsed": true
   },
   "outputs": [],
   "source": [
    "# the statistics on intervals inter = (p1, p2)\n",
    "\n",
    "def m_contacts_interval(m, inter):\n",
    "    return m_contacts(m, inter[0])\n",
    "\n",
    "def m_contact_vector_interval(m, inter):\n",
    "    return m_contact_vector(m, inter[0])\n",
    "\n",
    "def m_contact_monomial_interval(m, inter):\n",
    "    return m_contact_monomial(m, inter[0])\n",
    "\n",
    "def m_rises_interval(inter):\n",
    "    return m_rises(inter[1])\n",
    "\n",
    "def m_rise_vector_interval(inter):\n",
    "    return m_rise_vector(inter[1])\n",
    "\n",
    "def m_rise_monomial_interval(inter):\n",
    "    return m_rise_monomial(inter[1])"
   ]
  },
  {
   "cell_type": "code",
   "execution_count": 100,
   "metadata": {
    "collapsed": false
   },
   "outputs": [
    {
     "name": "stdout",
     "output_type": "stream",
     "text": [
      "5\n",
      "[5, 0, 0, 1, 0, 0, 0, 0, 0, 2, 1, 0, 0, 0, 0, 1, 0, 0, 0, 1, 0, 0]\n",
      "[5, 2, 1, 1, 1, 1, 0, 0, 0, 0, 0, 0, 0, 0, 0, 0, 0, 0, 0, 0, 0, 0]\n",
      "1\n",
      "[1, 0, 2, 0, 0, 1, 0, 2, 0, 1, 0, 0, 1, 1, 0, 0, 2, 0, 0, 0, 0, 0]\n",
      "[2, 2, 2, 1, 1, 1, 1, 1, 0, 0, 0, 0, 0, 0, 0, 0, 0, 0, 0, 0, 0, 0]\n"
     ]
    }
   ],
   "source": [
    "# the example of Fig. 30\n",
    "p1 = (1,0,0,1,0,1,0,0,0,1,0,0,1,1,0,0,0,1,0,0,1,0,1,0,0,0,0,1,0,1,0,0,0)\n",
    "p2 = (1,0,0,1,1,0,0,0,1,0,0,1,1,0,0,1,0,0,0,1,0,1,0,0,0,1,1,0,0,0,0,0,0)\n",
    "inter = (p1, p2)\n",
    "print m_contacts_interval(2,inter)\n",
    "print m_contact_vector_interval(2, inter)\n",
    "print m_contact_monomial_interval(2, inter)\n",
    "print m_rises_interval(inter)\n",
    "print m_rise_vector_interval(inter)\n",
    "print m_rise_monomial_interval(inter)"
   ]
  },
  {
   "cell_type": "markdown",
   "metadata": {},
   "source": [
    "### $m$-interval-posets and $m$-grafting trees"
   ]
  },
  {
   "cell_type": "code",
   "execution_count": 101,
   "metadata": {
    "collapsed": true
   },
   "outputs": [],
   "source": [
    "def m_path_to_m_Dyckpath(m, path):\n",
    "    \"\"\"\n",
    "    Return the m-Dyck path of a given m-ballot path\n",
    "    \"\"\"\n",
    "    up = [1]*m\n",
    "    down = [0]\n",
    "    dw = []\n",
    "    for step in path:\n",
    "        if step == 1:\n",
    "            dw.extend(up)\n",
    "        else:\n",
    "            dw.extend(down)\n",
    "    return DyckWord(dw)\n",
    "\n",
    "def m_Dyckpath_to_m_path(m, dw):\n",
    "    \"\"\"\n",
    "    Return the m-ballot path a of a given m-Dyck path\n",
    "    \"\"\"\n",
    "    path = []\n",
    "    i = 0\n",
    "    for step in dw:\n",
    "        if step == 1:\n",
    "            if i%m == 0:\n",
    "                path.append(1)\n",
    "            i+=1\n",
    "        else:\n",
    "            path.append(0)\n",
    "    return tuple(path)\n",
    "\n",
    "def m_interval_to_m_interval_poset(m, inter):\n",
    "    \"\"\"\n",
    "    Return the m-interval-poset in bijection with the m-interval tuple\n",
    "    \"\"\"\n",
    "    dw1, dw2 = tuple(m_path_to_m_Dyckpath(m,p) for p in inter)\n",
    "    return TamariIntervalPosets.from_dyck_words(dw1, dw2)\n",
    "\n",
    "def m_interval_poset_to_m_interval(m, tip):\n",
    "    \"\"\"\n",
    "    Return the m-interval tuple of m-ballot paths from the m-interval-poset\n",
    "    \"\"\"\n",
    "    return (m_Dyckpath_to_m_path(m, tip.lower_dyck_word()), m_Dyckpath_to_m_path(m, tip.upper_dyck_word()))\n",
    "\n",
    "def m_distance(m, inter):\n",
    "    tip = m_interval_to_m_interval_poset(m, inter)\n",
    "    return tip.number_of_tamari_inversions()\n"
   ]
  },
  {
   "cell_type": "code",
   "execution_count": 102,
   "metadata": {
    "collapsed": false
   },
   "outputs": [
    {
     "data": {
      "image/png": "[encoded data removed]",
      "text/plain": [
       "<IPython.core.display.Image object>"
      ]
     },
     "execution_count": 102,
     "metadata": {},
     "output_type": "execute_result"
    }
   ],
   "source": [
    "# the example of Fig. 30\n",
    "p1 = (1,0,0,1,0,1,0,0,0,1,0,0,1,1,0,0,0,1,0,0,1,0,1,0,0,0,0,1,0,1,0,0,0)\n",
    "p2 = (1,0,0,1,1,0,0,0,1,0,0,1,1,0,0,1,0,0,0,1,0,1,0,0,0,1,1,0,0,0,0,0,0)\n",
    "inter = (p1, p2)\n",
    "mtip = m_interval_to_m_interval_poset(2, inter)\n",
    "viewLatex(mtip)"
   ]
  },
  {
   "cell_type": "code",
   "execution_count": 103,
   "metadata": {
    "collapsed": false
   },
   "outputs": [
    {
     "name": "stdout",
     "output_type": "stream",
     "text": [
      "((1, 0, 0, 1, 0, 1, 0, 0, 0, 1, 0, 0, 1, 1, 0, 0, 0, 1, 0, 0, 1, 0, 1, 0, 0, 0, 0, 1, 0, 1, 0, 0, 0), (1, 0, 0, 1, 1, 0, 0, 0, 1, 0, 0, 1, 1, 0, 0, 1, 0, 0, 0, 1, 0, 1, 0, 0, 0, 1, 1, 0, 0, 0, 0, 0, 0))\n"
     ]
    }
   ],
   "source": [
    "print m_interval_poset_to_m_interval(2,mtip)"
   ]
  },
  {
   "cell_type": "code",
   "execution_count": 104,
   "metadata": {
    "collapsed": false
   },
   "outputs": [
    {
     "name": "stdout",
     "output_type": "stream",
     "text": [
      "1\n",
      "2\n"
     ]
    }
   ],
   "source": [
    "# you can check Prop. 5.11\n",
    "print m_rises_interval(inter)\n",
    "print rises_interval(mtip) # x 2"
   ]
  },
  {
   "cell_type": "code",
   "execution_count": 105,
   "metadata": {
    "collapsed": false
   },
   "outputs": [
    {
     "name": "stdout",
     "output_type": "stream",
     "text": [
      "[1, 0, 2, 0, 0, 1, 0, 2, 0, 1, 0, 0, 1, 1, 0, 0, 2, 0, 0, 0, 0, 0]\n",
      "[2, 0, 4, 0, 0, 2, 0, 4, 0, 2, 0, 0, 2, 2, 0, 0, 4, 0, 0, 0, 0, 0]\n"
     ]
    }
   ],
   "source": [
    "print m_rise_vector_interval(inter)\n",
    "print rise_vector_interval(mtip) # x 2"
   ]
  },
  {
   "cell_type": "code",
   "execution_count": 106,
   "metadata": {
    "collapsed": false
   },
   "outputs": [
    {
     "name": "stdout",
     "output_type": "stream",
     "text": [
      "5\n",
      "5\n"
     ]
    }
   ],
   "source": [
    "print m_contacts_interval(2, inter)\n",
    "print contacts_interval(mtip) # the same"
   ]
  },
  {
   "cell_type": "code",
   "execution_count": 107,
   "metadata": {
    "collapsed": false
   },
   "outputs": [
    {
     "name": "stdout",
     "output_type": "stream",
     "text": [
      "[5, 0, 0, 1, 0, 0, 0, 0, 0, 2, 1, 0, 0, 0, 0, 1, 0, 0, 0, 1, 0, 0]\n",
      "[5, 1, 0, 2, 0, 1, 0, 1, 0, 3, 1, 1, 0, 1, 0, 2, 0, 1, 0, 2, 0, 1]\n"
     ]
    }
   ],
   "source": [
    "print m_contact_vector_interval(2, inter)\n",
    "print contact_vector_interval(mtip) # adds 1 to odd positions"
   ]
  },
  {
   "cell_type": "markdown",
   "metadata": {},
   "source": [
    "### expand - contract"
   ]
  },
  {
   "cell_type": "code",
   "execution_count": 108,
   "metadata": {
    "collapsed": true
   },
   "outputs": [],
   "source": [
    "def expand_grafting_tree(m, tree, k = 1):\n",
    "    \"\"\"\n",
    "    Return the expanded grafting tree of a m-grafting tree\n",
    "    INPUT:\n",
    "    \n",
    "        - m an integer \n",
    "        - tree a labelled binary tree (m-grafting tree)\n",
    "        - k = 1, a internal recursive parameter\n",
    "    \"\"\"\n",
    "    if tree.is_empty():\n",
    "        return tree\n",
    "    left = expand_grafting_tree(m, tree[0], k)\n",
    "    k = k + left.node_number()\n",
    "    right = expand_grafting_tree(m, tree[1], k+1)\n",
    "    label = m*tree.label() if k%m == 0 else m*(tree.label() - 1)\n",
    "    return LabelledBinaryTree([left, right], label = label)\n",
    "\n",
    "\n",
    "def contract_grafting_tree(m, tree, k = 1):\n",
    "    \"\"\"\n",
    "    Return the contracted grafting tree of a m-rise-contact divisible grafting tree\n",
    "    INPUT:\n",
    "    \n",
    "        - m an integer \n",
    "        - tree a labelled binary tree (grafting tree)\n",
    "        - k = 1, a internal recursive parameter\n",
    "    \"\"\"\n",
    "    if tree.is_empty():\n",
    "        return tree\n",
    "    left = contract_grafting_tree(m, tree[0], k)\n",
    "    k = k + left.node_number()\n",
    "    right = contract_grafting_tree(m, tree[1], k+1)\n",
    "    label = tree.label()/m if k%m == 0 else tree.label()/m + 1\n",
    "    return LabelledBinaryTree([left, right], label = label)"
   ]
  },
  {
   "cell_type": "code",
   "execution_count": 109,
   "metadata": {
    "collapsed": false
   },
   "outputs": [
    {
     "data": {
      "image/png": "[encoded data removed]",
      "text/plain": [
       "<IPython.core.display.Image object>"
      ]
     },
     "execution_count": 109,
     "metadata": {},
     "output_type": "execute_result"
    }
   ],
   "source": [
    "# The example of Fig. 30\n",
    "\n",
    "mtree = grafting_tree(mtip)\n",
    "tree_image = expand_grafting_tree(2,mtree)\n",
    "viewLatex(mtree)"
   ]
  },
  {
   "cell_type": "code",
   "execution_count": 110,
   "metadata": {
    "collapsed": false
   },
   "outputs": [
    {
     "data": {
      "image/png": "[encoded data removed]",
      "text/plain": [
       "<IPython.core.display.Image object>"
      ]
     },
     "execution_count": 110,
     "metadata": {},
     "output_type": "execute_result"
    }
   ],
   "source": [
    "viewLatex(tree_image)"
   ]
  },
  {
   "cell_type": "code",
   "execution_count": 111,
   "metadata": {
    "collapsed": false
   },
   "outputs": [
    {
     "data": {
      "text/plain": [
       "True"
      ]
     },
     "execution_count": 111,
     "metadata": {},
     "output_type": "execute_result"
    }
   ],
   "source": [
    "mtree == contract_grafting_tree(2,tree_image)"
   ]
  },
  {
   "cell_type": "markdown",
   "metadata": {},
   "source": [
    "### The $m$-Rise-Contact involution"
   ]
  },
  {
   "cell_type": "code",
   "execution_count": 112,
   "metadata": {
    "collapsed": true
   },
   "outputs": [],
   "source": [
    "def m_rise_contact_involution(m, inter):\n",
    "    \"\"\"\n",
    "    Return the result of the m-Rise-contact involutionon a m-interval\n",
    "    \n",
    "    INPUT:\n",
    "    \n",
    "        - `m` an integer\n",
    "        - inter a tuple of m-paths\n",
    "    \"\"\"\n",
    "    mtip = m_interval_to_m_interval_poset(m, inter)\n",
    "    mtree = grafting_tree(mtip)\n",
    "    mtip_image = interval_from_grafting_tree(contract_grafting_tree(m, rise_contact_involution_grafting_tree(expand_grafting_tree(m,mtree))))\n",
    "    return m_interval_poset_to_m_interval(m, mtip_image)"
   ]
  },
  {
   "cell_type": "code",
   "execution_count": 113,
   "metadata": {
    "collapsed": false
   },
   "outputs": [
    {
     "name": "stdout",
     "output_type": "stream",
     "text": [
      "((1, 1, 0, 0, 1, 0, 1, 0, 1, 0, 1, 0, 1, 1, 0, 0, 1, 0, 0, 0, 1, 0, 0, 0, 0, 0, 1, 0, 0, 0, 0, 0, 0), (1, 1, 1, 1, 1, 0, 1, 0, 1, 1, 0, 1, 0, 0, 0, 0, 1, 0, 0, 0, 0, 1, 0, 0, 0, 0, 0, 0, 0, 0, 0, 0, 0))\n"
     ]
    }
   ],
   "source": [
    "# the example of Fig. 30\n",
    "p1 = (1,0,0,1,0,1,0,0,0,1,0,0,1,1,0,0,0,1,0,0,1,0,1,0,0,0,0,1,0,1,0,0,0)\n",
    "p2 = (1,0,0,1,1,0,0,0,1,0,0,1,1,0,0,1,0,0,0,1,0,1,0,0,0,1,1,0,0,0,0,0,0)\n",
    "inter = (p1, p2)\n",
    "print m_rise_contact_involution(2, inter)"
   ]
  },
  {
   "cell_type": "code",
   "execution_count": 114,
   "metadata": {
    "collapsed": false
   },
   "outputs": [
    {
     "data": {
      "image/png": "[encoded data removed]",
      "text/plain": [
       "<IPython.core.display.Image object>"
      ]
     },
     "execution_count": 114,
     "metadata": {},
     "output_type": "execute_result"
    }
   ],
   "source": [
    "# Step by step\n",
    "p1 = (1,0,0,1,0,1,0,0,0,1,0,0,1,1,0,0,0,1,0,0,1,0,1,0,0,0,0,1,0,1,0,0,0)\n",
    "p2 = (1,0,0,1,1,0,0,0,1,0,0,1,1,0,0,1,0,0,0,1,0,1,0,0,0,1,1,0,0,0,0,0,0)\n",
    "inter = (p1, p2)\n",
    "# the m-interval poset\n",
    "mtip = m_interval_to_m_interval_poset(2, inter)\n",
    "viewLatex(mtip)"
   ]
  },
  {
   "cell_type": "code",
   "execution_count": 115,
   "metadata": {
    "collapsed": false
   },
   "outputs": [
    {
     "data": {
      "image/png": "[encoded data removed]",
      "text/plain": [
       "<IPython.core.display.Image object>"
      ]
     },
     "execution_count": 115,
     "metadata": {},
     "output_type": "execute_result"
    }
   ],
   "source": [
    "# the m-grafting tree\n",
    "mtree = grafting_tree(mtip)\n",
    "viewLatex(mtree)"
   ]
  },
  {
   "cell_type": "code",
   "execution_count": 116,
   "metadata": {
    "collapsed": false
   },
   "outputs": [
    {
     "data": {
      "image/png": "[encoded data removed]",
      "text/plain": [
       "<IPython.core.display.Image object>"
      ]
     },
     "execution_count": 116,
     "metadata": {},
     "output_type": "execute_result"
    }
   ],
   "source": [
    "# the expanded tree\n",
    "mtree_expanded = expand_grafting_tree(2, mtree)\n",
    "viewLatex(mtree_expanded)"
   ]
  },
  {
   "cell_type": "code",
   "execution_count": 117,
   "metadata": {
    "collapsed": false
   },
   "outputs": [
    {
     "data": {
      "image/png": "[encoded data removed]",
      "text/plain": [
       "<IPython.core.display.Image object>"
      ]
     },
     "execution_count": 117,
     "metadata": {},
     "output_type": "execute_result"
    }
   ],
   "source": [
    "# the rise-contact involution (left-border + complement + left-border)\n",
    "tree_image = rise_contact_involution_grafting_tree(mtree_expanded)\n",
    "viewLatex(tree_image)"
   ]
  },
  {
   "cell_type": "code",
   "execution_count": 118,
   "metadata": {
    "collapsed": false
   },
   "outputs": [
    {
     "data": {
      "image/png": "[encoded data removed]",
      "text/plain": [
       "<IPython.core.display.Image object>"
      ]
     },
     "execution_count": 118,
     "metadata": {},
     "output_type": "execute_result"
    }
   ],
   "source": [
    "# we contract the result\n",
    "tree_contracted = contract_grafting_tree(2,tree_image)\n",
    "viewLatex(tree_contracted)"
   ]
  },
  {
   "cell_type": "code",
   "execution_count": 119,
   "metadata": {
    "collapsed": false
   },
   "outputs": [
    {
     "data": {
      "image/png": "[encoded data removed]",
      "text/plain": [
       "<IPython.core.display.Image object>"
      ]
     },
     "execution_count": 119,
     "metadata": {},
     "output_type": "execute_result"
    }
   ],
   "source": [
    "# the corresponding m-interval-poset\n",
    "mtip_image = interval_from_grafting_tree(tree_contracted)\n",
    "viewLatex(mtip_image)"
   ]
  },
  {
   "cell_type": "code",
   "execution_count": 120,
   "metadata": {
    "collapsed": false
   },
   "outputs": [
    {
     "name": "stdout",
     "output_type": "stream",
     "text": [
      "((1, 1, 0, 0, 1, 0, 1, 0, 1, 0, 1, 0, 1, 1, 0, 0, 1, 0, 0, 0, 1, 0, 0, 0, 0, 0, 1, 0, 0, 0, 0, 0, 0), (1, 1, 1, 1, 1, 0, 1, 0, 1, 1, 0, 1, 0, 0, 0, 0, 1, 0, 0, 0, 0, 1, 0, 0, 0, 0, 0, 0, 0, 0, 0, 0, 0))\n"
     ]
    }
   ],
   "source": [
    "# the corresponding interval (p1, p2)\n",
    "print m_interval_poset_to_m_interval(2, mtip_image)"
   ]
  },
  {
   "cell_type": "markdown",
   "metadata": {},
   "source": [
    "We can check that the action on statistic is what we we want."
   ]
  },
  {
   "cell_type": "code",
   "execution_count": 121,
   "metadata": {
    "collapsed": true
   },
   "outputs": [],
   "source": [
    "def check_m_rise_contact_statistics(m, inter):\n",
    "    image = m_rise_contact_involution(m, inter)\n",
    "    return m_contacts_interval(m, inter) == m_rises_interval(image) \\\n",
    "    and m_contact_monomial(m, inter) == m_rise_monomial(inter) \\\n",
    "    and m_distance(m, inter) ==  m_distance(m, image)"
   ]
  },
  {
   "cell_type": "code",
   "execution_count": 122,
   "metadata": {
    "collapsed": false
   },
   "outputs": [
    {
     "data": {
      "text/plain": [
       "True"
      ]
     },
     "execution_count": 122,
     "metadata": {},
     "output_type": "execute_result"
    }
   ],
   "source": [
    "check_m_rise_contact_statistics(2, inter)"
   ]
  },
  {
   "cell_type": "code",
   "execution_count": 123,
   "metadata": {
    "collapsed": false
   },
   "outputs": [
    {
     "data": {
      "text/plain": [
       "True"
      ]
     },
     "execution_count": 123,
     "metadata": {},
     "output_type": "execute_result"
    }
   ],
   "source": [
    "all(check_m_rise_contact_statistics(m,v) for m in xrange(2,4) for n in xrange(2,4) for v in m_intervals(m,n) )"
   ]
  },
  {
   "cell_type": "code",
   "execution_count": null,
   "metadata": {
    "collapsed": true
   },
   "outputs": [],
   "source": []
  }
 ],
 "metadata": {
  "kernelspec": {
   "display_name": "SageMath 7.5.1",
   "language": "",
   "name": "sagemath"
  },
  "language_info": {
   "codemirror_mode": {
    "name": "ipython",
    "version": 2
   },
   "file_extension": ".py",
   "mimetype": "text/x-python",
   "name": "python",
   "nbconvert_exporter": "python",
   "pygments_lexer": "ipython2",
   "version": "2.7.13"
  }
 },
 "nbformat": 4,
 "nbformat_minor": 0
}
