{
 "cells": [
  {
   "cell_type": "markdown",
   "metadata": {},
   "source": [
    "# The Rise-Contact involution on Interval-posets\n",
    "\n",
    "The notebook shows some implementation related to the following paper:\n",
    "\n",
    "[1] Viviane Pons. The Rise-Contact involution on Tamari Intervals\n",
    "\n"
   ]
  },
  {
   "cell_type": "code",
   "execution_count": 1,
   "metadata": {
    "collapsed": true
   },
   "outputs": [],
   "source": [
    "# utils: a function to show latex printed objects in the notebook\n",
    "# useful to show objects on a Jupyter notebook\n",
    "# on a local Sage instal, just use view(objects)\n",
    "from sage.misc.latex import _Latex_prefs\n",
    "from sage.misc.latex import png\n",
    "import os\n",
    "from IPython.display import Image\n",
    "def viewLatex(objects):\n",
    "    engine = _Latex_prefs._option[\"engine\"]\n",
    "    file_name = tmp_filename() + \".png\"\n",
    "    png(objects, file_name, debug = False, engine = engine)\n",
    "    return Image(filename = file_name)"
   ]
  },
  {
   "cell_type": "markdown",
   "metadata": {},
   "source": [
    "## Statistics\n",
    "\n",
    "First let us see how to get the different statistics on Tamari intervals referenced in the paper.\n",
    "\n",
    "The *number of contacts* and *initial rises* are already implemented for Dyck Paths."
   ]
  },
  {
   "cell_type": "code",
   "execution_count": 2,
   "metadata": {
    "collapsed": true
   },
   "outputs": [],
   "source": [
    "dw = DyckWord([1,1,0,1,1,0,0,0,1,1,0,1,1,0,1,1,0,0,0,0])"
   ]
  },
  {
   "cell_type": "code",
   "execution_count": 3,
   "metadata": {
    "collapsed": false
   },
   "outputs": [
    {
     "data": {
      "image/png": "[encoded data removed]",
      "text/plain": [
       "<IPython.core.display.Image object>"
      ]
     },
     "execution_count": 3,
     "metadata": {},
     "output_type": "execute_result"
    }
   ],
   "source": [
    "viewLatex(dw)"
   ]
  },
  {
   "cell_type": "code",
   "execution_count": 4,
   "metadata": {
    "collapsed": false
   },
   "outputs": [
    {
     "data": {
      "text/plain": [
       "2"
      ]
     },
     "execution_count": 4,
     "metadata": {},
     "output_type": "execute_result"
    }
   ],
   "source": [
    "dw.number_of_touch_points()"
   ]
  },
  {
   "cell_type": "code",
   "execution_count": 5,
   "metadata": {
    "collapsed": false
   },
   "outputs": [
    {
     "data": {
      "text/plain": [
       "2"
      ]
     },
     "execution_count": 5,
     "metadata": {},
     "output_type": "execute_result"
    }
   ],
   "source": [
    "dw.number_of_initial_rises()"
   ]
  },
  {
   "cell_type": "code",
   "execution_count": 16,
   "metadata": {
    "collapsed": true
   },
   "outputs": [],
   "source": [
    "def contact_vector(dw):\n",
    "    x = 0\n",
    "    y = 0\n",
    "    vector = [dw.number_of_touch_points()]\n",
    "    for i,step in enumerate(dw):\n",
    "        if step == 1:\n",
    "            y += 1\n",
    "            d = y - x\n",
    "            c = 0\n",
    "            xx = x\n",
    "            yy = y\n",
    "            for k in xrange(i+1,len(dw)):\n",
    "                dd = yy - xx\n",
    "                if dd == d:\n",
    "                    c+=1\n",
    "                elif dd < d:\n",
    "                    break\n",
    "                xx, yy = (xx+1, yy) if dw[k] == 0 else (xx, yy+1)\n",
    "            c -= 1\n",
    "            vector.append(c)\n",
    "            \n",
    "        else:\n",
    "            x += 1\n",
    "    return vector[:-1]"
   ]
  },
  {
   "cell_type": "code",
   "execution_count": 17,
   "metadata": {
    "collapsed": false
   },
   "outputs": [
    {
     "data": {
      "text/plain": [
       "[2, 2, 0, 1, 0, 2, 0, 2, 0, 1]"
      ]
     },
     "execution_count": 17,
     "metadata": {},
     "output_type": "execute_result"
    }
   ],
   "source": [
    "contact_vector(dw)"
   ]
  },
  {
   "cell_type": "code",
   "execution_count": 18,
   "metadata": {
    "collapsed": false
   },
   "outputs": [],
   "source": [
    "def rise_vector(dw):\n",
    "    vector = []\n",
    "    r = 0\n",
    "    for step in dw:\n",
    "        if step == 0:\n",
    "            vector.append(r)\n",
    "            r = 0\n",
    "        else:\n",
    "            r+=1\n",
    "    return vector"
   ]
  },
  {
   "cell_type": "code",
   "execution_count": 19,
   "metadata": {
    "collapsed": false
   },
   "outputs": [
    {
     "data": {
      "text/plain": [
       "[2, 2, 0, 0, 2, 2, 2, 0, 0, 0]"
      ]
     },
     "execution_count": 19,
     "metadata": {},
     "output_type": "execute_result"
    }
   ],
   "source": [
    "rise_vector(dw)"
   ]
  },
  {
   "cell_type": "markdown",
   "metadata": {},
   "source": [
    "We represent the contact monomial and rise monomial as partitions: each occurrence of $i$ in the list represents an occurrence of $x_i$ (resp. $y_i$) in the monomial."
   ]
  },
  {
   "cell_type": "code",
   "execution_count": 20,
   "metadata": {
    "collapsed": true
   },
   "outputs": [],
   "source": [
    "def contact_monomial(dw):\n",
    "    v = contact_vector(dw)\n",
    "    v.sort()\n",
    "    v.reverse()\n",
    "    return v"
   ]
  },
  {
   "cell_type": "code",
   "execution_count": 21,
   "metadata": {
    "collapsed": true
   },
   "outputs": [],
   "source": [
    "def rise_monomial(dw):\n",
    "    v = rise_vector(dw)\n",
    "    v.sort()\n",
    "    v.reverse()\n",
    "    return v"
   ]
  },
  {
   "cell_type": "code",
   "execution_count": 22,
   "metadata": {
    "collapsed": false
   },
   "outputs": [
    {
     "data": {
      "text/plain": [
       "[2, 2, 2, 2, 1, 1, 0, 0, 0, 0]"
      ]
     },
     "execution_count": 22,
     "metadata": {},
     "output_type": "execute_result"
    }
   ],
   "source": [
    "contact_monomial(dw)"
   ]
  },
  {
   "cell_type": "code",
   "execution_count": 23,
   "metadata": {
    "collapsed": false
   },
   "outputs": [
    {
     "data": {
      "text/plain": [
       "[2, 2, 2, 2, 2, 0, 0, 0, 0, 0]"
      ]
     },
     "execution_count": 23,
     "metadata": {},
     "output_type": "execute_result"
    }
   ],
   "source": [
    "rise_monomial(dw)"
   ]
  },
  {
   "cell_type": "markdown",
   "metadata": {},
   "source": [
    "Here are the basic functions to get those statistics on interval-posets."
   ]
  },
  {
   "cell_type": "code",
   "execution_count": 26,
   "metadata": {
    "collapsed": true
   },
   "outputs": [],
   "source": [
    "def contacts_interval(tip):\n",
    "    return tip.lower_dyck_word().number_of_touch_points()\n",
    "\n",
    "def rises_interval(tip):\n",
    "    return tip.upper_dyck_word().number_of_initial_rises()\n",
    "\n",
    "def contact_vector_interval(tip):\n",
    "    return contact_vector(tip.lower_dyck_word())\n",
    "\n",
    "def rise_vector_interval(tip):\n",
    "    return rise_vector(tip.upper_dyck_word())\n",
    "\n",
    "def contact_monomial_interval(tip):\n",
    "    return contact_monomial(tip.lower_dyck_word())\n",
    "\n",
    "def rise_monomial_interval(tip):\n",
    "    return rise_monomial(tip.upper_dyck_word())"
   ]
  },
  {
   "cell_type": "code",
   "execution_count": 27,
   "metadata": {
    "collapsed": true
   },
   "outputs": [],
   "source": [
    "# The interval poset of Fig. 3\n",
    "tip = TamariIntervalPoset(10, [(2,5), (3,4), (4,5), (6,7), (8,10), (9,10), (3,2), (4,2), (6,5), (7,5), (8,5), (10,5), (9,8)])"
   ]
  },
  {
   "cell_type": "code",
   "execution_count": 28,
   "metadata": {
    "collapsed": false
   },
   "outputs": [
    {
     "data": {
      "text/plain": [
       "The Tamari interval of size 10 induced by relations [(2, 5), (3, 4), (4, 5), (6, 7), (8, 10), (9, 10), (10, 5), (9, 8), (8, 5), (7, 5), (6, 5), (4, 2), (3, 2)]"
      ]
     },
     "execution_count": 28,
     "metadata": {},
     "output_type": "execute_result"
    }
   ],
   "source": [
    "tip"
   ]
  },
  {
   "cell_type": "code",
   "execution_count": 29,
   "metadata": {
    "collapsed": false
   },
   "outputs": [
    {
     "data": {
      "image/png": "[encoded data removed]",
      "text/plain": [
       "<IPython.core.display.Image object>"
      ]
     },
     "execution_count": 29,
     "metadata": {},
     "output_type": "execute_result"
    }
   ],
   "source": [
    "viewLatex(tip)"
   ]
  },
  {
   "cell_type": "code",
   "execution_count": 30,
   "metadata": {
    "collapsed": false
   },
   "outputs": [
    {
     "data": {
      "text/plain": [
       "3"
      ]
     },
     "execution_count": 30,
     "metadata": {},
     "output_type": "execute_result"
    }
   ],
   "source": [
    "contacts_interval(tip)"
   ]
  },
  {
   "cell_type": "code",
   "execution_count": 31,
   "metadata": {
    "collapsed": false
   },
   "outputs": [
    {
     "data": {
      "text/plain": [
       "3"
      ]
     },
     "execution_count": 31,
     "metadata": {},
     "output_type": "execute_result"
    }
   ],
   "source": [
    "rises_interval(tip)"
   ]
  },
  {
   "cell_type": "code",
   "execution_count": 32,
   "metadata": {
    "collapsed": false
   },
   "outputs": [
    {
     "data": {
      "text/plain": [
       "[3, 0, 2, 0, 0, 4, 0, 0, 1, 0]"
      ]
     },
     "execution_count": 32,
     "metadata": {},
     "output_type": "execute_result"
    }
   ],
   "source": [
    "contact_vector_interval(tip)"
   ]
  },
  {
   "cell_type": "code",
   "execution_count": 33,
   "metadata": {
    "collapsed": false
   },
   "outputs": [
    {
     "data": {
      "text/plain": [
       "[3, 1, 0, 2, 3, 0, 1, 0, 0, 0]"
      ]
     },
     "execution_count": 33,
     "metadata": {},
     "output_type": "execute_result"
    }
   ],
   "source": [
    "rise_vector_interval(tip)"
   ]
  },
  {
   "cell_type": "code",
   "execution_count": 35,
   "metadata": {
    "collapsed": false
   },
   "outputs": [
    {
     "data": {
      "text/plain": [
       "[4, 3, 2, 1, 0, 0, 0, 0, 0, 0]"
      ]
     },
     "execution_count": 35,
     "metadata": {},
     "output_type": "execute_result"
    }
   ],
   "source": [
    "contact_monomial_interval(tip)"
   ]
  },
  {
   "cell_type": "code",
   "execution_count": 36,
   "metadata": {
    "collapsed": false
   },
   "outputs": [
    {
     "data": {
      "text/plain": [
       "[3, 3, 2, 1, 1, 0, 0, 0, 0, 0]"
      ]
     },
     "execution_count": 36,
     "metadata": {},
     "output_type": "execute_result"
    }
   ],
   "source": [
    "rise_monomial_interval(tip)"
   ]
  },
  {
   "cell_type": "markdown",
   "metadata": {},
   "source": [
    "The paper also defined the DC and IC vectors."
   ]
  },
  {
   "cell_type": "code",
   "execution_count": 44,
   "metadata": {
    "collapsed": true
   },
   "outputs": [],
   "source": [
    "def dc(tip):\n",
    "    L = [len(tip.decreasing_children(i)) for i in tip]\n",
    "    return [len(tip.decreasing_roots())] + L[:-1]\n",
    "\n",
    "def ic(tip):\n",
    "    L = [len(tip.increasing_children(i)) for i in tip]\n",
    "    L.reverse()\n",
    "    return [len(tip.increasing_roots())] + L[:-1]"
   ]
  },
  {
   "cell_type": "code",
   "execution_count": 45,
   "metadata": {
    "collapsed": false
   },
   "outputs": [
    {
     "data": {
      "text/plain": [
       "[3, 0, 2, 0, 0, 4, 0, 0, 1, 0]"
      ]
     },
     "execution_count": 45,
     "metadata": {},
     "output_type": "execute_result"
    }
   ],
   "source": [
    "dc(tip)"
   ]
  },
  {
   "cell_type": "code",
   "execution_count": 46,
   "metadata": {
    "collapsed": false
   },
   "outputs": [
    {
     "data": {
      "text/plain": [
       "[4, 2, 0, 0, 1, 0, 2, 1, 0, 0]"
      ]
     },
     "execution_count": 46,
     "metadata": {},
     "output_type": "execute_result"
    }
   ],
   "source": [
    "ic(tip)"
   ]
  },
  {
   "cell_type": "markdown",
   "metadata": {},
   "source": [
    "You can check that DC is similar to the contact vector."
   ]
  },
  {
   "cell_type": "code",
   "execution_count": 47,
   "metadata": {
    "collapsed": false
   },
   "outputs": [
    {
     "data": {
      "text/plain": [
       "True"
      ]
     },
     "execution_count": 47,
     "metadata": {},
     "output_type": "execute_result"
    }
   ],
   "source": [
    "all(dc(v) == contact_vector_interval(v) for v in TamariIntervalPosets(4))"
   ]
  },
  {
   "cell_type": "markdown",
   "metadata": {},
   "source": [
    "The *distance* statistic can be computed directly on interval-posets by computing the number of Tamari inversions."
   ]
  },
  {
   "cell_type": "code",
   "execution_count": 49,
   "metadata": {
    "collapsed": false
   },
   "outputs": [
    {
     "data": {
      "text/plain": [
       "4"
      ]
     },
     "execution_count": 49,
     "metadata": {},
     "output_type": "execute_result"
    }
   ],
   "source": [
    "tip.number_of_tamari_inversions()"
   ]
  },
  {
   "cell_type": "markdown",
   "metadata": {},
   "source": [
    "## Involutions\n",
    "\n",
    "### Grafting Trees"
   ]
  },
  {
   "cell_type": "markdown",
   "metadata": {},
   "source": [
    "The following functions gives the grafting-tree of an interval-poset and the inverse construction."
   ]
  },
  {
   "cell_type": "code",
   "execution_count": 54,
   "metadata": {
    "collapsed": true
   },
   "outputs": [],
   "source": [
    "def decompose(tip):\n",
    "    \"\"\"\n",
    "    Decompose an interval-poset into a triplet (left, right, r)\n",
    "    \n",
    "    Input:\n",
    "        - tip, an interval poset\n",
    "        \n",
    "    Output: a triplet (left, right, r) where left and right are interval posets and r \n",
    "    is the parameter of the composition.\n",
    "    \"\"\"\n",
    "    n = tip.size()\n",
    "    if n == 0:\n",
    "        return None\n",
    "    root = tip.increasing_roots()[-1]\n",
    "    r = len(tip.decreasing_children(root))\n",
    "    left = tip.sub_poset(1,root)\n",
    "    right = tip.sub_poset(root+1,tip.size()+1)\n",
    "    return left, right, r\n",
    "\n",
    "def recompose(left, right, r):\n",
    "    \"\"\"\n",
    "    Recompose an interval-poset from a triplet (left, right, r)\n",
    "    \n",
    "    Input:\n",
    "        - left, an interval-poset\n",
    "        - right, an interval-poset\n",
    "        - r, the parameter of the recomposition\n",
    "        \n",
    "    Output: an interval-poset\n",
    "    \"\"\"\n",
    "    root = left.size() + 1\n",
    "    rel = left.poset().cover_relations()\n",
    "    rel.extend((i,root) for i in left)\n",
    "    rel.extend((root+a,root+b) for a,b in right.poset().cover_relations())\n",
    "    decroot = right.decreasing_roots()[:r]\n",
    "    rel.extend((root+i,root) for i in decroot)\n",
    "    return TamariIntervalPoset(left.size()+right.size()+1,rel)\n",
    "    \n",
    "def grafting_tree(tip):\n",
    "    n = tip.size()\n",
    "    if n == 0:\n",
    "        return LabelledBinaryTree(None)\n",
    "    left, right, r = decompose(tip)\n",
    "    return LabelledBinaryTree([grafting_tree(left), grafting_tree(right)], label = r)\n",
    "\n",
    "def interval_from_grafting_tree(tree):\n",
    "    if tree.is_empty():\n",
    "        return TamariIntervalPoset(0,[])\n",
    "    r = tree.label()\n",
    "    left = interval_from_grafting_tree(tree[0])\n",
    "    right = interval_from_grafting_tree(tree[1])\n",
    "    return recompose(left, right, r)"
   ]
  },
  {
   "cell_type": "markdown",
   "metadata": {},
   "source": [
    "Here is the computation of the example of Fig. 19."
   ]
  },
  {
   "cell_type": "code",
   "execution_count": 56,
   "metadata": {
    "collapsed": false
   },
   "outputs": [],
   "source": [
    "tip = TamariIntervalPoset(8, [(1,2), (2,4), (3,4), (6,7), (3,2), (5,4), (6,4), (8,7)])"
   ]
  },
  {
   "cell_type": "code",
   "execution_count": 57,
   "metadata": {
    "collapsed": false
   },
   "outputs": [
    {
     "data": {
      "text/plain": [
       "(The Tamari interval of size 3 induced by relations [(1, 2), (3, 2)],\n",
       " The Tamari interval of size 4 induced by relations [(2, 3), (4, 3)],\n",
       " 2)"
      ]
     },
     "execution_count": 57,
     "metadata": {},
     "output_type": "execute_result"
    }
   ],
   "source": [
    "decompose(tip)"
   ]
  },
  {
   "cell_type": "code",
   "execution_count": 59,
   "metadata": {
    "collapsed": false
   },
   "outputs": [
    {
     "data": {
      "image/png": "[encoded data removed]",
      "text/plain": [
       "<IPython.core.display.Image object>"
      ]
     },
     "execution_count": 59,
     "metadata": {},
     "output_type": "execute_result"
    }
   ],
   "source": [
    "viewLatex(decompose(tip))"
   ]
  },
  {
   "cell_type": "code",
   "execution_count": 60,
   "metadata": {
    "collapsed": false
   },
   "outputs": [
    {
     "data": {
      "image/png": "[encoded data removed]",
      "text/plain": [
       "<IPython.core.display.Image object>"
      ]
     },
     "execution_count": 60,
     "metadata": {},
     "output_type": "execute_result"
    }
   ],
   "source": [
    "viewLatex(grafting_tree(tip))"
   ]
  },
  {
   "cell_type": "code",
   "execution_count": 61,
   "metadata": {
    "collapsed": false
   },
   "outputs": [
    {
     "data": {
      "text/plain": [
       "2[1[0[., .], 0[., .]], 0[., 1[0[., .], 0[., .]]]]"
      ]
     },
     "execution_count": 61,
     "metadata": {},
     "output_type": "execute_result"
    }
   ],
   "source": [
    "t = grafting_tree(tip)\n",
    "t"
   ]
  },
  {
   "cell_type": "code",
   "execution_count": 63,
   "metadata": {
    "collapsed": false
   },
   "outputs": [
    {
     "data": {
      "text/plain": [
       "True"
      ]
     },
     "execution_count": 63,
     "metadata": {},
     "output_type": "execute_result"
    }
   ],
   "source": [
    "tip == interval_from_grafting_tree(t)"
   ]
  },
  {
   "cell_type": "markdown",
   "metadata": {},
   "source": [
    "### Left branch involution\n",
    "\n",
    "This allows us to implement very easily the left branch involution."
   ]
  },
  {
   "cell_type": "code",
   "execution_count": 64,
   "metadata": {
    "collapsed": false
   },
   "outputs": [
    {
     "data": {
      "image/png": "[encoded data removed]",
      "text/plain": [
       "<IPython.core.display.Image object>"
      ]
     },
     "execution_count": 64,
     "metadata": {},
     "output_type": "execute_result"
    }
   ],
   "source": [
    "viewLatex(t)"
   ]
  },
  {
   "cell_type": "code",
   "execution_count": 65,
   "metadata": {
    "collapsed": false
   },
   "outputs": [
    {
     "data": {
      "image/png": "[encoded data removed]",
      "text/plain": [
       "<IPython.core.display.Image object>"
      ]
     },
     "execution_count": 65,
     "metadata": {},
     "output_type": "execute_result"
    }
   ],
   "source": [
    "viewLatex(t.left_border_symmetry())"
   ]
  },
  {
   "cell_type": "code",
   "execution_count": 66,
   "metadata": {
    "collapsed": true
   },
   "outputs": [],
   "source": [
    "def left_branch_involution(tip):\n",
    "    return interval_from_grafting_tree(grafting_tree(tip).left_border_symmetry())"
   ]
  },
  {
   "cell_type": "code",
   "execution_count": 67,
   "metadata": {
    "collapsed": false
   },
   "outputs": [
    {
     "data": {
      "image/png": "[encoded data removed]",
      "text/plain": [
       "<IPython.core.display.Image object>"
      ]
     },
     "execution_count": 67,
     "metadata": {},
     "output_type": "execute_result"
    }
   ],
   "source": [
    "viewLatex(left_branch_involution(tip))"
   ]
  },
  {
   "cell_type": "markdown",
   "metadata": {},
   "source": [
    "You can check that the left branch involution exchanges the IC vector and rise vector while keeping the contact monomial and distance."
   ]
  },
  {
   "cell_type": "code",
   "execution_count": 68,
   "metadata": {
    "collapsed": true
   },
   "outputs": [],
   "source": [
    "def check_left_branch_involution_statistics(tip):\n",
    "    image = left_branch_involution(tip)\n",
    "    return rise_vector_interval(image) == ic(tip) and contact_monomial_interval(image) == contact_monomial_interval(tip) and image.number_of_tamari_inversions() == tip.number_of_tamari_inversions()"
   ]
  },
  {
   "cell_type": "code",
   "execution_count": 69,
   "metadata": {
    "collapsed": false
   },
   "outputs": [
    {
     "data": {
      "text/plain": [
       "True"
      ]
     },
     "execution_count": 69,
     "metadata": {},
     "output_type": "execute_result"
    }
   ],
   "source": [
    "check_left_branch_involution_statistics(tip)"
   ]
  },
  {
   "cell_type": "code",
   "execution_count": 70,
   "metadata": {
    "collapsed": false
   },
   "outputs": [
    {
     "data": {
      "text/plain": [
       "True"
      ]
     },
     "execution_count": 70,
     "metadata": {},
     "output_type": "execute_result"
    }
   ],
   "source": [
    "all(check_left_branch_involution_statistics(v) for v in TamariIntervalPosets(4))"
   ]
  },
  {
   "cell_type": "code",
   "execution_count": null,
   "metadata": {
    "collapsed": true
   },
   "outputs": [],
   "source": []
  }
 ],
 "metadata": {
  "kernelspec": {
   "display_name": "SageMath 7.5.1",
   "language": "",
   "name": "sagemath"
  },
  "language_info": {
   "codemirror_mode": {
    "name": "ipython",
    "version": 2
   },
   "file_extension": ".py",
   "mimetype": "text/x-python",
   "name": "python",
   "nbconvert_exporter": "python",
   "pygments_lexer": "ipython2",
   "version": "2.7.13"
  }
 },
 "nbformat": 4,
 "nbformat_minor": 0
}
