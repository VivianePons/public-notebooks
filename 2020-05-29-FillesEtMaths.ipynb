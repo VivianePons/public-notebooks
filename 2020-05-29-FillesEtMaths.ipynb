{
 "cells": [
  {
   "cell_type": "markdown",
   "metadata": {},
   "source": [
    "[Lancer la feuille de calcul avec Binder](https://mybinder.org/v2/gh/VivianePons/public-notebooks/master)\n",
    "\n",
    "## Bienvenue dans ma calculatrice géante !\n",
    "\n",
    "Ceci est une feuille de calcul SageMath. SageMath est logciel de *mathématiques* développé par des chercheuses et des chercheurs (comme moi). Vous pouvez le voir comme une **grosse calculatrice** qui contient plein de mathématiques, sauf qu'en plus, on peut faire du **python**."
   ]
  },
  {
   "cell_type": "code",
   "execution_count": 0,
   "metadata": {},
   "outputs": [],
   "source": [
    "1+1"
   ]
  },
  {
   "cell_type": "code",
   "execution_count": 0,
   "metadata": {},
   "outputs": [],
   "source": [
    "4 + 38"
   ]
  },
  {
   "cell_type": "code",
   "execution_count": 0,
   "metadata": {},
   "outputs": [],
   "source": [
    "f(x) = x^2 - 3*x\n",
    "f.plot([-5,5])"
   ]
  },
  {
   "cell_type": "code",
   "execution_count": 0,
   "metadata": {},
   "outputs": [],
   "source": [
    "# un autre exemple ?"
   ]
  },
  {
   "cell_type": "code",
   "execution_count": 0,
   "metadata": {},
   "outputs": [],
   "source": [
    "factorial(10)"
   ]
  },
  {
   "cell_type": "code",
   "execution_count": 0,
   "metadata": {},
   "outputs": [],
   "source": [
    "factorial(150)"
   ]
  },
  {
   "cell_type": "code",
   "execution_count": 0,
   "metadata": {},
   "outputs": [],
   "source": [
    "[factorial(i) for i in range(1,20)]"
   ]
  },
  {
   "cell_type": "markdown",
   "metadata": {},
   "source": [
    "## Revenons à nos pulls\n",
    "\n",
    "Ecrivons une fonction qui calcule l'ensemble des empilements possibles."
   ]
  },
  {
   "cell_type": "code",
   "execution_count": 0,
   "metadata": {},
   "outputs": [],
   "source": [
    "def Empilements(S):\n",
    "    # S est un paramètre : c'est l'ensemble des pulls à empiler\n",
    "    resultat = [] # La variable resultat contiendra la liste des empilements possibles\n",
    "    if len(S) > 1: # len donne la taille de mon ensemble\n",
    "        # Si j'ai plusieurs choix, je vais parcourir les différents choix possibles, comme dans l'arbre\n",
    "        for pull in S: # Pour chaque pull dans S\n",
    "            # La ligne suivante est plus difficile, elle correspond à un parcours **récursif** de l'arbre \n",
    "            # qu'on a dessiné tout à l'heure\n",
    "            # J'ai choisi un pull et j'empile par dessus tous les empilements possible sans mon pull\n",
    "            for petit_empilement in Empilements([autre_pull for autre_pull in S if autre_pull != pull]):\n",
    "                empilement = [pull] + petit_empilement # j'empile mon petit empilement sur mon pull\n",
    "                resultat.append(empilement) # et je le rajoute au résultat\n",
    "    else: # Sinon, je n'ai qu'un seul choix\n",
    "        pull = S[0] # je récupère mon pull à l'intérieur de S\n",
    "        resultat.append([pull]) # j'empile mon pull tout seul\n",
    "    # A la fin de la fonction, je renvoie la liste des résultats\n",
    "    return resultat\n",
    "        "
   ]
  },
  {
   "cell_type": "code",
   "execution_count": 0,
   "metadata": {},
   "outputs": [],
   "source": [
    "Empilements([\"violet\", \"rouge\", \"vert\"])"
   ]
  },
  {
   "cell_type": "code",
   "execution_count": 0,
   "metadata": {},
   "outputs": [],
   "source": [
    "Empilements([\"violet\", \"rouge\", \"vert\",\"rose bonbon\", \"orange\", \"bleu à rayure\"])"
   ]
  },
  {
   "cell_type": "code",
   "execution_count": 0,
   "metadata": {},
   "outputs": [],
   "source": [
    "len(Empilements([\"violet\", \"rouge\", \"vert\",\"rose bonbon\", \"orange\", \"bleu à rayure\"]))"
   ]
  },
  {
   "cell_type": "code",
   "execution_count": 0,
   "metadata": {},
   "outputs": [],
   "source": [
    "Empilements([1,2,3,4])"
   ]
  },
  {
   "cell_type": "code",
   "execution_count": 0,
   "metadata": {},
   "outputs": [],
   "source": [
    "list(Permutations(4))"
   ]
  },
  {
   "cell_type": "markdown",
   "metadata": {},
   "source": [
    "## Explorons des propriétés mathématiques...\n",
    "\n",
    "Il se trouve que j'ai un **ordre préféré** sur mes pulls. Mais comme je les ai laissé trainé n'importe où, c'est mon père excédé qui les a rangé dans l'armoire. S'il a choisi un empilement \"au hasard\" de façon *uniforme*, en moyenne, combien de pulls sont à la \"bonne\" place ?"
   ]
  },
  {
   "cell_type": "code",
   "execution_count": 0,
   "metadata": {},
   "outputs": [],
   "source": [
    "Empilements([\"violet\", \"rouge\", \"vert\"])"
   ]
  },
  {
   "cell_type": "code",
   "execution_count": 0,
   "metadata": {},
   "outputs": [],
   "source": [
    "for p in Permutations(3):\n",
    "    print(p,p.number_of_fixed_points())"
   ]
  },
  {
   "cell_type": "code",
   "execution_count": 0,
   "metadata": {},
   "outputs": [],
   "source": [
    "mean([p.number_of_fixed_points() for p in Permutations(3)])"
   ]
  },
  {
   "cell_type": "code",
   "execution_count": 0,
   "metadata": {},
   "outputs": [],
   "source": [
    "mean([p.number_of_fixed_points() for p in Permutations(4)])"
   ]
  },
  {
   "cell_type": "code",
   "execution_count": 0,
   "metadata": {},
   "outputs": [],
   "source": [
    "mean([p.number_of_fixed_points() for p in Permutations(5)])"
   ]
  },
  {
   "cell_type": "code",
   "execution_count": 0,
   "metadata": {},
   "outputs": [],
   "source": [
    "mean([p.number_of_fixed_points() for p in Permutations(6)])"
   ]
  },
  {
   "cell_type": "code",
   "execution_count": 0,
   "metadata": {},
   "outputs": [],
   "source": [
    "mean([float(Permutations(150).random_element().number_of_fixed_points()) for i in range(10000)])"
   ]
  },
  {
   "cell_type": "code",
   "execution_count": 0,
   "metadata": {},
   "outputs": [],
   "source": []
  }
 ],
 "metadata": {
  "kernelspec": {
   "display_name": "SageMath 9.1.beta7",
   "language": "sage",
   "name": "sagemath"
  },
  "language_info": {
   "codemirror_mode": {
    "name": "ipython",
    "version": 3
   },
   "file_extension": ".py",
   "mimetype": "text/x-python",
   "name": "python",
   "nbconvert_exporter": "python",
   "pygments_lexer": "ipython3",
   "version": "3.7.3"
  }
 },
 "nbformat": 4,
 "nbformat_minor": 4
}
